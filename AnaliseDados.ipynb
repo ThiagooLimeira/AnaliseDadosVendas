{
 "cells": [
  {
   "cell_type": "markdown",
   "id": "8e3d5ed7-bddd-4bfc-8d8f-4ff33cbd3de0",
   "metadata": {},
   "source": [
    "Exercícios para Análise de Dados (Nível Iniciante)\n",
    "Aqui estão 10 perguntas de negócio para você responder utilizando a base de dados fornecida. O objetivo é que você utilize Python e a biblioteca Pandas para explorar, analisar e extrair insights dos dados.\n",
    "\n",
    "1. Análise Exploratória Inicial\n",
    "\n",
    "Pergunta: Qual é a estrutura geral da nossa base de dados?\n",
    "\n",
    "Tarefa: Carregue o arquivo CSV em um DataFrame do Pandas. Exiba as 5 primeiras e as 5 últimas linhas. Em seguida, gere um resumo que mostre a contagem de registros, a média, o desvio padrão, e os valores mínimo e máximo para as colunas numéricas. Por fim, verifique se existem valores nulos no conjunto de dados."
   ]
  },
  {
   "cell_type": "code",
   "execution_count": 1,
   "id": "686fbb1b-aa32-4323-8540-eccbdf321309",
   "metadata": {},
   "outputs": [],
   "source": [
    "#Fazendo os imports\n",
    "import pandas as pd\n",
    "import numpy as np"
   ]
  },
  {
   "cell_type": "code",
   "execution_count": 2,
   "id": "3d16a9e9-b916-4541-bf49-e91d93d4f1a0",
   "metadata": {},
   "outputs": [],
   "source": [
    "#Carregando o arquivo\n",
    "df_ex = pd.read_csv('database_vendas_online.csv')"
   ]
  },
  {
   "cell_type": "code",
   "execution_count": 3,
   "id": "d002a0e9-4245-489e-ac0a-b0f8cc699218",
   "metadata": {},
   "outputs": [
    {
     "data": {
      "text/html": [
       "<div>\n",
       "<style scoped>\n",
       "    .dataframe tbody tr th:only-of-type {\n",
       "        vertical-align: middle;\n",
       "    }\n",
       "\n",
       "    .dataframe tbody tr th {\n",
       "        vertical-align: top;\n",
       "    }\n",
       "\n",
       "    .dataframe thead th {\n",
       "        text-align: right;\n",
       "    }\n",
       "</style>\n",
       "<table border=\"1\" class=\"dataframe\">\n",
       "  <thead>\n",
       "    <tr style=\"text-align: right;\">\n",
       "      <th></th>\n",
       "      <th>ID_Pedido</th>\n",
       "      <th>ID_Cliente</th>\n",
       "      <th>Data_Pedido</th>\n",
       "      <th>Produto</th>\n",
       "      <th>Categoria</th>\n",
       "      <th>Preco_Unitario</th>\n",
       "      <th>Quantidade</th>\n",
       "      <th>Valor_Total</th>\n",
       "    </tr>\n",
       "  </thead>\n",
       "  <tbody>\n",
       "    <tr>\n",
       "      <th>0</th>\n",
       "      <td>1000</td>\n",
       "      <td>905</td>\n",
       "      <td>2024-07-18</td>\n",
       "      <td>Aspirador de Pó</td>\n",
       "      <td>Casa e Cozinha</td>\n",
       "      <td>273.04</td>\n",
       "      <td>1</td>\n",
       "      <td>273.04</td>\n",
       "    </tr>\n",
       "    <tr>\n",
       "      <th>1</th>\n",
       "      <td>1001</td>\n",
       "      <td>398</td>\n",
       "      <td>2023-08-28</td>\n",
       "      <td>Biografia</td>\n",
       "      <td>Livros</td>\n",
       "      <td>54.34</td>\n",
       "      <td>1</td>\n",
       "      <td>54.34</td>\n",
       "    </tr>\n",
       "    <tr>\n",
       "      <th>2</th>\n",
       "      <td>1002</td>\n",
       "      <td>897</td>\n",
       "      <td>2024-09-02</td>\n",
       "      <td>Bicicleta Ergométrica</td>\n",
       "      <td>Esportes e Lazer</td>\n",
       "      <td>658.70</td>\n",
       "      <td>3</td>\n",
       "      <td>1976.10</td>\n",
       "    </tr>\n",
       "    <tr>\n",
       "      <th>3</th>\n",
       "      <td>1003</td>\n",
       "      <td>822</td>\n",
       "      <td>2024-11-01</td>\n",
       "      <td>Cafeteira</td>\n",
       "      <td>Casa e Cozinha</td>\n",
       "      <td>130.29</td>\n",
       "      <td>4</td>\n",
       "      <td>521.16</td>\n",
       "    </tr>\n",
       "    <tr>\n",
       "      <th>4</th>\n",
       "      <td>1004</td>\n",
       "      <td>1116</td>\n",
       "      <td>2024-02-26</td>\n",
       "      <td>Bola de Futebol</td>\n",
       "      <td>Esportes e Lazer</td>\n",
       "      <td>56.29</td>\n",
       "      <td>1</td>\n",
       "      <td>56.29</td>\n",
       "    </tr>\n",
       "  </tbody>\n",
       "</table>\n",
       "</div>"
      ],
      "text/plain": [
       "   ID_Pedido  ID_Cliente Data_Pedido                Produto         Categoria  \\\n",
       "0       1000         905  2024-07-18        Aspirador de Pó    Casa e Cozinha   \n",
       "1       1001         398  2023-08-28              Biografia            Livros   \n",
       "2       1002         897  2024-09-02  Bicicleta Ergométrica  Esportes e Lazer   \n",
       "3       1003         822  2024-11-01              Cafeteira    Casa e Cozinha   \n",
       "4       1004        1116  2024-02-26        Bola de Futebol  Esportes e Lazer   \n",
       "\n",
       "   Preco_Unitario  Quantidade  Valor_Total  \n",
       "0          273.04           1       273.04  \n",
       "1           54.34           1        54.34  \n",
       "2          658.70           3      1976.10  \n",
       "3          130.29           4       521.16  \n",
       "4           56.29           1        56.29  "
      ]
     },
     "execution_count": 3,
     "metadata": {},
     "output_type": "execute_result"
    }
   ],
   "source": [
    "#Exibindo as 5 primeiras linhas\n",
    "df_ex.head()"
   ]
  },
  {
   "cell_type": "code",
   "execution_count": 4,
   "id": "155c423f-1253-4c40-ac0e-9962a9004529",
   "metadata": {},
   "outputs": [
    {
     "data": {
      "text/html": [
       "<div>\n",
       "<style scoped>\n",
       "    .dataframe tbody tr th:only-of-type {\n",
       "        vertical-align: middle;\n",
       "    }\n",
       "\n",
       "    .dataframe tbody tr th {\n",
       "        vertical-align: top;\n",
       "    }\n",
       "\n",
       "    .dataframe thead th {\n",
       "        text-align: right;\n",
       "    }\n",
       "</style>\n",
       "<table border=\"1\" class=\"dataframe\">\n",
       "  <thead>\n",
       "    <tr style=\"text-align: right;\">\n",
       "      <th></th>\n",
       "      <th>ID_Pedido</th>\n",
       "      <th>ID_Cliente</th>\n",
       "      <th>Data_Pedido</th>\n",
       "      <th>Produto</th>\n",
       "      <th>Categoria</th>\n",
       "      <th>Preco_Unitario</th>\n",
       "      <th>Quantidade</th>\n",
       "      <th>Valor_Total</th>\n",
       "    </tr>\n",
       "  </thead>\n",
       "  <tbody>\n",
       "    <tr>\n",
       "      <th>14995</th>\n",
       "      <td>15995</td>\n",
       "      <td>264</td>\n",
       "      <td>2025-05-28</td>\n",
       "      <td>Liquidificador</td>\n",
       "      <td>Casa e Cozinha</td>\n",
       "      <td>76.17</td>\n",
       "      <td>2</td>\n",
       "      <td>152.34</td>\n",
       "    </tr>\n",
       "    <tr>\n",
       "      <th>14996</th>\n",
       "      <td>15996</td>\n",
       "      <td>251</td>\n",
       "      <td>2024-08-06</td>\n",
       "      <td>Fantasia</td>\n",
       "      <td>Livros</td>\n",
       "      <td>42.08</td>\n",
       "      <td>1</td>\n",
       "      <td>42.08</td>\n",
       "    </tr>\n",
       "    <tr>\n",
       "      <th>14997</th>\n",
       "      <td>15997</td>\n",
       "      <td>1478</td>\n",
       "      <td>2025-06-03</td>\n",
       "      <td>Barraca de Camping</td>\n",
       "      <td>Esportes e Lazer</td>\n",
       "      <td>229.62</td>\n",
       "      <td>1</td>\n",
       "      <td>229.62</td>\n",
       "    </tr>\n",
       "    <tr>\n",
       "      <th>14998</th>\n",
       "      <td>15998</td>\n",
       "      <td>312</td>\n",
       "      <td>2024-03-27</td>\n",
       "      <td>Panela de Pressão</td>\n",
       "      <td>Casa e Cozinha</td>\n",
       "      <td>158.29</td>\n",
       "      <td>1</td>\n",
       "      <td>158.29</td>\n",
       "    </tr>\n",
       "    <tr>\n",
       "      <th>14999</th>\n",
       "      <td>15999</td>\n",
       "      <td>219</td>\n",
       "      <td>2024-02-27</td>\n",
       "      <td>Carregador Portátil</td>\n",
       "      <td>Eletrônicos</td>\n",
       "      <td>90.52</td>\n",
       "      <td>1</td>\n",
       "      <td>90.52</td>\n",
       "    </tr>\n",
       "  </tbody>\n",
       "</table>\n",
       "</div>"
      ],
      "text/plain": [
       "       ID_Pedido  ID_Cliente Data_Pedido              Produto  \\\n",
       "14995      15995         264  2025-05-28       Liquidificador   \n",
       "14996      15996         251  2024-08-06             Fantasia   \n",
       "14997      15997        1478  2025-06-03   Barraca de Camping   \n",
       "14998      15998         312  2024-03-27    Panela de Pressão   \n",
       "14999      15999         219  2024-02-27  Carregador Portátil   \n",
       "\n",
       "              Categoria  Preco_Unitario  Quantidade  Valor_Total  \n",
       "14995    Casa e Cozinha           76.17           2       152.34  \n",
       "14996            Livros           42.08           1        42.08  \n",
       "14997  Esportes e Lazer          229.62           1       229.62  \n",
       "14998    Casa e Cozinha          158.29           1       158.29  \n",
       "14999       Eletrônicos           90.52           1        90.52  "
      ]
     },
     "execution_count": 4,
     "metadata": {},
     "output_type": "execute_result"
    }
   ],
   "source": [
    "#Exibindo as 5 últimas linhas\n",
    "df_ex.tail()"
   ]
  },
  {
   "cell_type": "code",
   "execution_count": 5,
   "id": "383f1b43-72e3-43fd-a2e0-54022bed9b15",
   "metadata": {},
   "outputs": [
    {
     "data": {
      "text/html": [
       "<div>\n",
       "<style scoped>\n",
       "    .dataframe tbody tr th:only-of-type {\n",
       "        vertical-align: middle;\n",
       "    }\n",
       "\n",
       "    .dataframe tbody tr th {\n",
       "        vertical-align: top;\n",
       "    }\n",
       "\n",
       "    .dataframe thead th {\n",
       "        text-align: right;\n",
       "    }\n",
       "</style>\n",
       "<table border=\"1\" class=\"dataframe\">\n",
       "  <thead>\n",
       "    <tr style=\"text-align: right;\">\n",
       "      <th></th>\n",
       "      <th>ID_Pedido</th>\n",
       "      <th>ID_Cliente</th>\n",
       "      <th>Preco_Unitario</th>\n",
       "      <th>Quantidade</th>\n",
       "      <th>Valor_Total</th>\n",
       "    </tr>\n",
       "  </thead>\n",
       "  <tbody>\n",
       "    <tr>\n",
       "      <th>count</th>\n",
       "      <td>15000.000000</td>\n",
       "      <td>15000.000000</td>\n",
       "      <td>15000.000000</td>\n",
       "      <td>15000.000000</td>\n",
       "      <td>15000.000000</td>\n",
       "    </tr>\n",
       "    <tr>\n",
       "      <th>mean</th>\n",
       "      <td>8499.500000</td>\n",
       "      <td>799.094000</td>\n",
       "      <td>319.770143</td>\n",
       "      <td>1.738800</td>\n",
       "      <td>559.040797</td>\n",
       "    </tr>\n",
       "    <tr>\n",
       "      <th>std</th>\n",
       "      <td>4330.271354</td>\n",
       "      <td>403.448156</td>\n",
       "      <td>535.402369</td>\n",
       "      <td>1.131132</td>\n",
       "      <td>1181.763037</td>\n",
       "    </tr>\n",
       "    <tr>\n",
       "      <th>min</th>\n",
       "      <td>1000.000000</td>\n",
       "      <td>100.000000</td>\n",
       "      <td>18.000000</td>\n",
       "      <td>1.000000</td>\n",
       "      <td>18.010000</td>\n",
       "    </tr>\n",
       "    <tr>\n",
       "      <th>25%</th>\n",
       "      <td>4749.750000</td>\n",
       "      <td>447.000000</td>\n",
       "      <td>51.355000</td>\n",
       "      <td>1.000000</td>\n",
       "      <td>81.537500</td>\n",
       "    </tr>\n",
       "    <tr>\n",
       "      <th>50%</th>\n",
       "      <td>8499.500000</td>\n",
       "      <td>799.000000</td>\n",
       "      <td>113.440000</td>\n",
       "      <td>1.000000</td>\n",
       "      <td>165.815000</td>\n",
       "    </tr>\n",
       "    <tr>\n",
       "      <th>75%</th>\n",
       "      <td>12249.250000</td>\n",
       "      <td>1145.250000</td>\n",
       "      <td>269.085000</td>\n",
       "      <td>2.000000</td>\n",
       "      <td>498.030000</td>\n",
       "    </tr>\n",
       "    <tr>\n",
       "      <th>max</th>\n",
       "      <td>15999.000000</td>\n",
       "      <td>1500.000000</td>\n",
       "      <td>2748.530000</td>\n",
       "      <td>5.000000</td>\n",
       "      <td>13742.650000</td>\n",
       "    </tr>\n",
       "  </tbody>\n",
       "</table>\n",
       "</div>"
      ],
      "text/plain": [
       "          ID_Pedido    ID_Cliente  Preco_Unitario    Quantidade   Valor_Total\n",
       "count  15000.000000  15000.000000    15000.000000  15000.000000  15000.000000\n",
       "mean    8499.500000    799.094000      319.770143      1.738800    559.040797\n",
       "std     4330.271354    403.448156      535.402369      1.131132   1181.763037\n",
       "min     1000.000000    100.000000       18.000000      1.000000     18.010000\n",
       "25%     4749.750000    447.000000       51.355000      1.000000     81.537500\n",
       "50%     8499.500000    799.000000      113.440000      1.000000    165.815000\n",
       "75%    12249.250000   1145.250000      269.085000      2.000000    498.030000\n",
       "max    15999.000000   1500.000000     2748.530000      5.000000  13742.650000"
      ]
     },
     "execution_count": 5,
     "metadata": {},
     "output_type": "execute_result"
    }
   ],
   "source": [
    "#Resumo da tabela\n",
    "df_ex.describe()"
   ]
  },
  {
   "cell_type": "code",
   "execution_count": 6,
   "id": "183fe705-f298-434f-b6c9-be9b7a7c7c1a",
   "metadata": {},
   "outputs": [
    {
     "data": {
      "text/plain": [
       "ID_Pedido         0\n",
       "ID_Cliente        0\n",
       "Data_Pedido       0\n",
       "Produto           0\n",
       "Categoria         0\n",
       "Preco_Unitario    0\n",
       "Quantidade        0\n",
       "Valor_Total       0\n",
       "dtype: int64"
      ]
     },
     "execution_count": 6,
     "metadata": {},
     "output_type": "execute_result"
    }
   ],
   "source": [
    "#Verificando se há valores nulos em alguma coluna\n",
    "df_ex.isnull().sum()"
   ]
  },
  {
   "cell_type": "markdown",
   "id": "5567ea71-128e-4341-ae2f-efad74352086",
   "metadata": {},
   "source": [
    "--------------------------------------------------------------------------------------------------------------------------------------------------------"
   ]
  },
  {
   "cell_type": "markdown",
   "id": "8f68e95c-e200-4ff7-9ec7-33f1b410742d",
   "metadata": {},
   "source": [
    "2. Receita Total\n",
    "\n",
    "Pergunta: Qual foi a receita total da loja no período coberto por esta base de dados?"
   ]
  },
  {
   "cell_type": "code",
   "execution_count": 7,
   "id": "59ea02bb-2c65-4b1d-b617-2fcce2dee119",
   "metadata": {},
   "outputs": [
    {
     "data": {
      "text/plain": [
       "8385611.959999999"
      ]
     },
     "execution_count": 7,
     "metadata": {},
     "output_type": "execute_result"
    }
   ],
   "source": [
    "#Calculando a soma de todos os valores da coluna Valor_Total\n",
    "vendastotais =df_ex['Valor_Total'].sum()\n",
    "vendastotais"
   ]
  },
  {
   "cell_type": "code",
   "execution_count": 8,
   "id": "6b3ca741-ca54-4f57-8653-4ef58a9ea67b",
   "metadata": {},
   "outputs": [
    {
     "data": {
      "text/plain": [
       "8385611.96"
      ]
     },
     "execution_count": 8,
     "metadata": {},
     "output_type": "execute_result"
    }
   ],
   "source": [
    "#Abreviando o valor total para melhor visualização\n",
    "vendastotais.round(2)"
   ]
  },
  {
   "cell_type": "markdown",
   "id": "81960abb-7558-4dd8-b999-cb3c455442ca",
   "metadata": {},
   "source": [
    "--------------------------------------------------------------------------------------------------------------------------------------------------------"
   ]
  },
  {
   "cell_type": "markdown",
   "id": "c384d981-7530-46c4-909c-d0e0fee42c18",
   "metadata": {},
   "source": [
    "3. Produtos Mais Vendidos\n",
    "\n",
    "Pergunta: Quais são os 10 produtos mais vendidos em termos de quantidade?"
   ]
  },
  {
   "cell_type": "code",
   "execution_count": 9,
   "id": "29ffac71-dbd6-44a1-8480-4ea79736460f",
   "metadata": {},
   "outputs": [
    {
     "data": {
      "text/plain": [
       "Produto\n",
       "Cafeteira          1102\n",
       "Notebook           1092\n",
       "Fantasia           1088\n",
       "Smartwatch         1086\n",
       "Bola de Futebol    1084\n",
       "Tablet             1082\n",
       "Óculos de Sol      1082\n",
       "Tênis              1077\n",
       "Camiseta           1067\n",
       "Corda de Pular     1060\n",
       "Name: Quantidade, dtype: int64"
      ]
     },
     "execution_count": 9,
     "metadata": {},
     "output_type": "execute_result"
    }
   ],
   "source": [
    "#Respondendo ao exercício e visualizando em ordem decrescente\n",
    "prodmaisvend = df_ex.groupby('Produto')['Quantidade'].sum().sort_values(ascending=False).head(10)\n",
    "prodmaisvend"
   ]
  },
  {
   "cell_type": "markdown",
   "id": "aacd0a27-f8b0-477b-910b-cfb74ef87360",
   "metadata": {},
   "source": [
    "--------------------------------------------------------------------------------------------------------------------------------------------------------"
   ]
  },
  {
   "cell_type": "markdown",
   "id": "99218d71-ae5f-46c6-bce0-baa17c6d03b8",
   "metadata": {},
   "source": [
    "4. Categorias de Maior Faturamento\n",
    "\n",
    "Pergunta: Quais categorias de produtos geram a maior parte da receita?"
   ]
  },
  {
   "cell_type": "code",
   "execution_count": 10,
   "id": "28ff121d-372f-46e3-9c2c-61d0c3882c06",
   "metadata": {},
   "outputs": [
    {
     "data": {
      "text/plain": [
       "Categoria\n",
       "Eletrônicos          5650573.15\n",
       "Esportes e Lazer     1081963.93\n",
       "Casa e Cozinha        776612.96\n",
       "Moda e Acessórios     670804.43\n",
       "Livros                205657.49\n",
       "Name: Valor_Total, dtype: float64"
      ]
     },
     "execution_count": 10,
     "metadata": {},
     "output_type": "execute_result"
    }
   ],
   "source": [
    "#Realizando o group by de categoria pela soma do valor total e já visualizando o resultado em ordem decrescente\n",
    "catmaiorfat = df_ex.groupby('Categoria')['Valor_Total'].sum()\n",
    "catmaiorfat.sort_values(ascending=False)"
   ]
  },
  {
   "cell_type": "code",
   "execution_count": 11,
   "id": "96b54010-1a48-4076-b2c4-d23c5508b4c9",
   "metadata": {},
   "outputs": [
    {
     "data": {
      "text/plain": [
       "5"
      ]
     },
     "execution_count": 11,
     "metadata": {},
     "output_type": "execute_result"
    }
   ],
   "source": [
    "#Verificando quantas categorias existem para ter certeza de que só existem 5 categorias\n",
    "df_ex['Categoria'].nunique()"
   ]
  },
  {
   "cell_type": "markdown",
   "id": "66a8c5ff-e011-4fbf-b9ac-b03c6496830a",
   "metadata": {},
   "source": [
    "--------------------------------------------------------------------------------------------------------------------------------------------------------"
   ]
  },
  {
   "cell_type": "markdown",
   "id": "ff9a3653-9de5-4689-a4d1-88aa4bdd2353",
   "metadata": {},
   "source": [
    "5. Análise de Vendas ao Longo do Tempo\n",
    "\n",
    "Pergunta: Como as vendas totais se comportaram mês a mês?"
   ]
  },
  {
   "cell_type": "code",
   "execution_count": 12,
   "id": "c91071e1-e95e-4842-a077-49d0ee8fb3b2",
   "metadata": {},
   "outputs": [],
   "source": [
    "#Extraindo os meses e anos e criando novas colunas para ambos\n",
    "df_ex['Data_Pedido'] = pd.to_datetime(df_ex['Data_Pedido'])\n",
    "df_ex['Ano'] = df_ex['Data_Pedido'].dt.year\n",
    "df_ex['Mês'] = df_ex['Data_Pedido'].dt.month"
   ]
  },
  {
   "cell_type": "code",
   "execution_count": 13,
   "id": "c62d837f-dbe8-401e-972b-4f13ad6d9e31",
   "metadata": {},
   "outputs": [
    {
     "data": {
      "text/html": [
       "<div>\n",
       "<style scoped>\n",
       "    .dataframe tbody tr th:only-of-type {\n",
       "        vertical-align: middle;\n",
       "    }\n",
       "\n",
       "    .dataframe tbody tr th {\n",
       "        vertical-align: top;\n",
       "    }\n",
       "\n",
       "    .dataframe thead th {\n",
       "        text-align: right;\n",
       "    }\n",
       "</style>\n",
       "<table border=\"1\" class=\"dataframe\">\n",
       "  <thead>\n",
       "    <tr style=\"text-align: right;\">\n",
       "      <th></th>\n",
       "      <th>ID_Pedido</th>\n",
       "      <th>ID_Cliente</th>\n",
       "      <th>Data_Pedido</th>\n",
       "      <th>Produto</th>\n",
       "      <th>Categoria</th>\n",
       "      <th>Preco_Unitario</th>\n",
       "      <th>Quantidade</th>\n",
       "      <th>Valor_Total</th>\n",
       "      <th>Ano</th>\n",
       "      <th>Mês</th>\n",
       "    </tr>\n",
       "  </thead>\n",
       "  <tbody>\n",
       "    <tr>\n",
       "      <th>0</th>\n",
       "      <td>1000</td>\n",
       "      <td>905</td>\n",
       "      <td>2024-07-18</td>\n",
       "      <td>Aspirador de Pó</td>\n",
       "      <td>Casa e Cozinha</td>\n",
       "      <td>273.04</td>\n",
       "      <td>1</td>\n",
       "      <td>273.04</td>\n",
       "      <td>2024</td>\n",
       "      <td>7</td>\n",
       "    </tr>\n",
       "    <tr>\n",
       "      <th>1</th>\n",
       "      <td>1001</td>\n",
       "      <td>398</td>\n",
       "      <td>2023-08-28</td>\n",
       "      <td>Biografia</td>\n",
       "      <td>Livros</td>\n",
       "      <td>54.34</td>\n",
       "      <td>1</td>\n",
       "      <td>54.34</td>\n",
       "      <td>2023</td>\n",
       "      <td>8</td>\n",
       "    </tr>\n",
       "    <tr>\n",
       "      <th>2</th>\n",
       "      <td>1002</td>\n",
       "      <td>897</td>\n",
       "      <td>2024-09-02</td>\n",
       "      <td>Bicicleta Ergométrica</td>\n",
       "      <td>Esportes e Lazer</td>\n",
       "      <td>658.70</td>\n",
       "      <td>3</td>\n",
       "      <td>1976.10</td>\n",
       "      <td>2024</td>\n",
       "      <td>9</td>\n",
       "    </tr>\n",
       "    <tr>\n",
       "      <th>3</th>\n",
       "      <td>1003</td>\n",
       "      <td>822</td>\n",
       "      <td>2024-11-01</td>\n",
       "      <td>Cafeteira</td>\n",
       "      <td>Casa e Cozinha</td>\n",
       "      <td>130.29</td>\n",
       "      <td>4</td>\n",
       "      <td>521.16</td>\n",
       "      <td>2024</td>\n",
       "      <td>11</td>\n",
       "    </tr>\n",
       "    <tr>\n",
       "      <th>4</th>\n",
       "      <td>1004</td>\n",
       "      <td>1116</td>\n",
       "      <td>2024-02-26</td>\n",
       "      <td>Bola de Futebol</td>\n",
       "      <td>Esportes e Lazer</td>\n",
       "      <td>56.29</td>\n",
       "      <td>1</td>\n",
       "      <td>56.29</td>\n",
       "      <td>2024</td>\n",
       "      <td>2</td>\n",
       "    </tr>\n",
       "  </tbody>\n",
       "</table>\n",
       "</div>"
      ],
      "text/plain": [
       "   ID_Pedido  ID_Cliente Data_Pedido                Produto         Categoria  \\\n",
       "0       1000         905  2024-07-18        Aspirador de Pó    Casa e Cozinha   \n",
       "1       1001         398  2023-08-28              Biografia            Livros   \n",
       "2       1002         897  2024-09-02  Bicicleta Ergométrica  Esportes e Lazer   \n",
       "3       1003         822  2024-11-01              Cafeteira    Casa e Cozinha   \n",
       "4       1004        1116  2024-02-26        Bola de Futebol  Esportes e Lazer   \n",
       "\n",
       "   Preco_Unitario  Quantidade  Valor_Total   Ano  Mês  \n",
       "0          273.04           1       273.04  2024    7  \n",
       "1           54.34           1        54.34  2023    8  \n",
       "2          658.70           3      1976.10  2024    9  \n",
       "3          130.29           4       521.16  2024   11  \n",
       "4           56.29           1        56.29  2024    2  "
      ]
     },
     "execution_count": 13,
     "metadata": {},
     "output_type": "execute_result"
    }
   ],
   "source": [
    "#Visualizando a \"nova\" database\n",
    "df_ex.head()"
   ]
  },
  {
   "cell_type": "code",
   "execution_count": 14,
   "id": "01bee3ce-2e30-4f3f-9797-24e6957214cd",
   "metadata": {},
   "outputs": [
    {
     "data": {
      "text/plain": [
       "Ano\n",
       "2023    1767089.19\n",
       "2024    4158994.38\n",
       "2025    2459528.39\n",
       "Name: Valor_Total, dtype: float64"
      ]
     },
     "execution_count": 14,
     "metadata": {},
     "output_type": "execute_result"
    }
   ],
   "source": [
    "#Visualizando as vendas por ano (não foi o pedido no exercício, mas já estou fazendo)\n",
    "vendasano = df_ex.groupby('Ano')['Valor_Total'].sum()\n",
    "vendasano"
   ]
  },
  {
   "cell_type": "code",
   "execution_count": 15,
   "id": "5062ce81-9271-483f-a3c8-e58c857070dc",
   "metadata": {},
   "outputs": [
    {
     "data": {
      "text/plain": [
       "Mês\n",
       "1     723563.12\n",
       "2     677936.03\n",
       "3     702698.30\n",
       "4     683691.87\n",
       "5     749227.79\n",
       "6     692899.71\n",
       "7     671609.66\n",
       "8     648189.00\n",
       "9     698874.53\n",
       "10    700505.51\n",
       "11    656363.02\n",
       "12    780053.42\n",
       "Name: Valor_Total, dtype: float64"
      ]
     },
     "execution_count": 15,
     "metadata": {},
     "output_type": "execute_result"
    }
   ],
   "source": [
    "#Visualizando as vendas por mês\n",
    "vendasmes = df_ex.groupby('Mês')['Valor_Total'].sum()\n",
    "vendasmes"
   ]
  },
  {
   "cell_type": "code",
   "execution_count": 16,
   "id": "065ae784-2253-4bb8-aa14-abbc3fe4f610",
   "metadata": {},
   "outputs": [
    {
     "name": "stdout",
     "output_type": "stream",
     "text": [
      "Ano   Mês\n",
      "2023  8      315546.38\n",
      "      9      358664.32\n",
      "      10     348192.28\n",
      "      11     328777.83\n",
      "      12     415908.38\n",
      "2024  1      344214.96\n",
      "      2      311892.14\n",
      "      3      367433.27\n",
      "      4      320044.92\n",
      "      5      380745.76\n",
      "      6      356305.27\n",
      "      7      361461.77\n",
      "      8      332642.62\n",
      "      9      340210.21\n",
      "      10     352313.23\n",
      "      11     327585.19\n",
      "      12     364145.04\n",
      "2025  1      379348.16\n",
      "      2      366043.89\n",
      "      3      335265.03\n",
      "      4      363646.95\n",
      "      5      368482.03\n",
      "      6      336594.44\n",
      "      7      310147.89\n",
      "Name: Valor_Total, dtype: float64\n"
     ]
    }
   ],
   "source": [
    "#Análise das vendas mês a mês com ano separado, sugestão da IA \n",
    "vendaslongotempo = df_ex.groupby(['Ano', 'Mês'])['Valor_Total'].sum()\n",
    "print(vendaslongotempo)"
   ]
  },
  {
   "cell_type": "markdown",
   "id": "b4e565f2-1c2a-428a-b82a-3dfae55beed4",
   "metadata": {},
   "source": [
    "--------------------------------------------------------------------------------------------------------------------------------------------------------"
   ]
  },
  {
   "cell_type": "markdown",
   "id": "db30455c-fd02-4fce-a025-1351077849cf",
   "metadata": {},
   "source": [
    "6. Identificação dos Clientes Mais Valiosos\n",
    "\n",
    "Pergunta: Quem são os 5 clientes que mais gastaram na loja?"
   ]
  },
  {
   "cell_type": "code",
   "execution_count": 17,
   "id": "c85207d8-9cfe-428c-8e1a-04cefc888e99",
   "metadata": {},
   "outputs": [
    {
     "data": {
      "text/html": [
       "<div>\n",
       "<style scoped>\n",
       "    .dataframe tbody tr th:only-of-type {\n",
       "        vertical-align: middle;\n",
       "    }\n",
       "\n",
       "    .dataframe tbody tr th {\n",
       "        vertical-align: top;\n",
       "    }\n",
       "\n",
       "    .dataframe thead th {\n",
       "        text-align: right;\n",
       "    }\n",
       "</style>\n",
       "<table border=\"1\" class=\"dataframe\">\n",
       "  <thead>\n",
       "    <tr style=\"text-align: right;\">\n",
       "      <th></th>\n",
       "      <th>ID_Pedido</th>\n",
       "      <th>ID_Cliente</th>\n",
       "      <th>Data_Pedido</th>\n",
       "      <th>Produto</th>\n",
       "      <th>Categoria</th>\n",
       "      <th>Preco_Unitario</th>\n",
       "      <th>Quantidade</th>\n",
       "      <th>Valor_Total</th>\n",
       "      <th>Ano</th>\n",
       "      <th>Mês</th>\n",
       "    </tr>\n",
       "  </thead>\n",
       "  <tbody>\n",
       "    <tr>\n",
       "      <th>0</th>\n",
       "      <td>1000</td>\n",
       "      <td>905</td>\n",
       "      <td>2024-07-18</td>\n",
       "      <td>Aspirador de Pó</td>\n",
       "      <td>Casa e Cozinha</td>\n",
       "      <td>273.04</td>\n",
       "      <td>1</td>\n",
       "      <td>273.04</td>\n",
       "      <td>2024</td>\n",
       "      <td>7</td>\n",
       "    </tr>\n",
       "    <tr>\n",
       "      <th>1</th>\n",
       "      <td>1001</td>\n",
       "      <td>398</td>\n",
       "      <td>2023-08-28</td>\n",
       "      <td>Biografia</td>\n",
       "      <td>Livros</td>\n",
       "      <td>54.34</td>\n",
       "      <td>1</td>\n",
       "      <td>54.34</td>\n",
       "      <td>2023</td>\n",
       "      <td>8</td>\n",
       "    </tr>\n",
       "    <tr>\n",
       "      <th>2</th>\n",
       "      <td>1002</td>\n",
       "      <td>897</td>\n",
       "      <td>2024-09-02</td>\n",
       "      <td>Bicicleta Ergométrica</td>\n",
       "      <td>Esportes e Lazer</td>\n",
       "      <td>658.70</td>\n",
       "      <td>3</td>\n",
       "      <td>1976.10</td>\n",
       "      <td>2024</td>\n",
       "      <td>9</td>\n",
       "    </tr>\n",
       "    <tr>\n",
       "      <th>3</th>\n",
       "      <td>1003</td>\n",
       "      <td>822</td>\n",
       "      <td>2024-11-01</td>\n",
       "      <td>Cafeteira</td>\n",
       "      <td>Casa e Cozinha</td>\n",
       "      <td>130.29</td>\n",
       "      <td>4</td>\n",
       "      <td>521.16</td>\n",
       "      <td>2024</td>\n",
       "      <td>11</td>\n",
       "    </tr>\n",
       "    <tr>\n",
       "      <th>4</th>\n",
       "      <td>1004</td>\n",
       "      <td>1116</td>\n",
       "      <td>2024-02-26</td>\n",
       "      <td>Bola de Futebol</td>\n",
       "      <td>Esportes e Lazer</td>\n",
       "      <td>56.29</td>\n",
       "      <td>1</td>\n",
       "      <td>56.29</td>\n",
       "      <td>2024</td>\n",
       "      <td>2</td>\n",
       "    </tr>\n",
       "  </tbody>\n",
       "</table>\n",
       "</div>"
      ],
      "text/plain": [
       "   ID_Pedido  ID_Cliente Data_Pedido                Produto         Categoria  \\\n",
       "0       1000         905  2024-07-18        Aspirador de Pó    Casa e Cozinha   \n",
       "1       1001         398  2023-08-28              Biografia            Livros   \n",
       "2       1002         897  2024-09-02  Bicicleta Ergométrica  Esportes e Lazer   \n",
       "3       1003         822  2024-11-01              Cafeteira    Casa e Cozinha   \n",
       "4       1004        1116  2024-02-26        Bola de Futebol  Esportes e Lazer   \n",
       "\n",
       "   Preco_Unitario  Quantidade  Valor_Total   Ano  Mês  \n",
       "0          273.04           1       273.04  2024    7  \n",
       "1           54.34           1        54.34  2023    8  \n",
       "2          658.70           3      1976.10  2024    9  \n",
       "3          130.29           4       521.16  2024   11  \n",
       "4           56.29           1        56.29  2024    2  "
      ]
     },
     "execution_count": 17,
     "metadata": {},
     "output_type": "execute_result"
    }
   ],
   "source": [
    "#Relembrando as colunas e seus dados\n",
    "df_ex.head()"
   ]
  },
  {
   "cell_type": "code",
   "execution_count": 18,
   "id": "793bc28b-e43b-4992-a13c-4788486282b3",
   "metadata": {},
   "outputs": [
    {
     "data": {
      "text/plain": [
       "ID_Cliente\n",
       "536     31108.09\n",
       "664     26195.65\n",
       "173     25563.13\n",
       "902     25319.28\n",
       "1051    24761.37\n",
       "Name: Valor_Total, dtype: float64"
      ]
     },
     "execution_count": 18,
     "metadata": {},
     "output_type": "execute_result"
    }
   ],
   "source": [
    "#Fazendo o agrupamento de clientes que mais compraram ordenando pelos 5 primeiros\n",
    "clientesmaisval = df_ex.groupby('ID_Cliente')['Valor_Total'].sum()\n",
    "clientesmaisval.sort_values(ascending=False).head()"
   ]
  },
  {
   "cell_type": "markdown",
   "id": "899121b0-d087-493b-8fd9-86512b03f6b9",
   "metadata": {},
   "source": [
    "--------------------------------------------------------------------------------------------------------------------------------------------------------"
   ]
  },
  {
   "cell_type": "markdown",
   "id": "e165052b-960a-4989-b24b-9872a6c01fb8",
   "metadata": {},
   "source": [
    "7. Análise do Ticket Médio por Pedido\n",
    "\n",
    "Pergunta: Qual é o valor médio gasto por pedido?"
   ]
  },
  {
   "cell_type": "code",
   "execution_count": 19,
   "id": "6e3d9709-8fd2-4e59-84a5-78b1fb5118fc",
   "metadata": {},
   "outputs": [
    {
     "data": {
      "text/plain": [
       "559.0407973333332"
      ]
     },
     "execution_count": 19,
     "metadata": {},
     "output_type": "execute_result"
    }
   ],
   "source": [
    "#Calculando o valor médio por pedido simplificado\n",
    "mediavalortot = df_ex['Valor_Total'].mean()\n",
    "mediavalortot"
   ]
  },
  {
   "cell_type": "code",
   "execution_count": 61,
   "id": "e0f4a598-eba4-4a66-93ce-ed67d9c80271",
   "metadata": {},
   "outputs": [
    {
     "data": {
      "text/plain": [
       "559.04"
      ]
     },
     "execution_count": 61,
     "metadata": {},
     "output_type": "execute_result"
    }
   ],
   "source": [
    "#Calculando o valor médio mais \"avançado\"\n",
    "valormediogast = df_ex.groupby('ID_Pedido')['Valor_Total'].sum().mean().round(2)\n",
    "valormediogast"
   ]
  },
  {
   "cell_type": "markdown",
   "id": "076f7b50-e2a1-4535-8432-cf552a2b43fc",
   "metadata": {},
   "source": [
    "--------------------------------------------------------------------------------------------------------------------------------------------------------"
   ]
  },
  {
   "cell_type": "markdown",
   "id": "402face4-ef32-4f3c-af28-a7a7cae4ad9f",
   "metadata": {},
   "source": [
    "8. Distribuição de Preços dos Produtos\n",
    "\n",
    "Pergunta: Qual é o produto mais caro e o mais barato em nosso catálogo?"
   ]
  },
  {
   "cell_type": "code",
   "execution_count": 21,
   "id": "de6e389e-71e5-4929-9a95-824af1594ccd",
   "metadata": {},
   "outputs": [
    {
     "data": {
      "text/plain": [
       "2748.53"
      ]
     },
     "execution_count": 21,
     "metadata": {},
     "output_type": "execute_result"
    }
   ],
   "source": [
    "#Identificando o preço mais alto\n",
    "df_ex['Preco_Unitario'].max()"
   ]
  },
  {
   "cell_type": "code",
   "execution_count": 22,
   "id": "f8df85d7-b420-4d8c-95e6-70742b4135f8",
   "metadata": {},
   "outputs": [
    {
     "data": {
      "text/plain": [
       "18.0"
      ]
     },
     "execution_count": 22,
     "metadata": {},
     "output_type": "execute_result"
    }
   ],
   "source": [
    "#Identificando o preço mais baixo\n",
    "df_ex['Preco_Unitario'].min()"
   ]
  },
  {
   "cell_type": "code",
   "execution_count": 23,
   "id": "fd207a17-2e72-478f-9509-429f556983a4",
   "metadata": {},
   "outputs": [
    {
     "data": {
      "text/html": [
       "<div>\n",
       "<style scoped>\n",
       "    .dataframe tbody tr th:only-of-type {\n",
       "        vertical-align: middle;\n",
       "    }\n",
       "\n",
       "    .dataframe tbody tr th {\n",
       "        vertical-align: top;\n",
       "    }\n",
       "\n",
       "    .dataframe thead th {\n",
       "        text-align: right;\n",
       "    }\n",
       "</style>\n",
       "<table border=\"1\" class=\"dataframe\">\n",
       "  <thead>\n",
       "    <tr style=\"text-align: right;\">\n",
       "      <th></th>\n",
       "      <th>ID_Pedido</th>\n",
       "      <th>ID_Cliente</th>\n",
       "      <th>Data_Pedido</th>\n",
       "      <th>Produto</th>\n",
       "      <th>Categoria</th>\n",
       "      <th>Preco_Unitario</th>\n",
       "      <th>Quantidade</th>\n",
       "      <th>Valor_Total</th>\n",
       "      <th>Ano</th>\n",
       "      <th>Mês</th>\n",
       "    </tr>\n",
       "  </thead>\n",
       "  <tbody>\n",
       "    <tr>\n",
       "      <th>4273</th>\n",
       "      <td>5273</td>\n",
       "      <td>1175</td>\n",
       "      <td>2023-08-30</td>\n",
       "      <td>Notebook</td>\n",
       "      <td>Eletrônicos</td>\n",
       "      <td>2748.53</td>\n",
       "      <td>5</td>\n",
       "      <td>13742.65</td>\n",
       "      <td>2023</td>\n",
       "      <td>8</td>\n",
       "    </tr>\n",
       "  </tbody>\n",
       "</table>\n",
       "</div>"
      ],
      "text/plain": [
       "      ID_Pedido  ID_Cliente Data_Pedido   Produto    Categoria  \\\n",
       "4273       5273        1175  2023-08-30  Notebook  Eletrônicos   \n",
       "\n",
       "      Preco_Unitario  Quantidade  Valor_Total   Ano  Mês  \n",
       "4273         2748.53           5     13742.65  2023    8  "
      ]
     },
     "execution_count": 23,
     "metadata": {},
     "output_type": "execute_result"
    }
   ],
   "source": [
    "#Localizando o produto mais caro\n",
    "df=pd.DataFrame(df_ex)\n",
    "produtocaro = df_ex['Preco_Unitario'] == 2748.53\n",
    "produtobusc1 = df.loc[produtocaro]\n",
    "produtobusc1"
   ]
  },
  {
   "cell_type": "code",
   "execution_count": 24,
   "id": "28c723e1-9ad8-4890-9450-dee1db988959",
   "metadata": {},
   "outputs": [
    {
     "data": {
      "text/html": [
       "<div>\n",
       "<style scoped>\n",
       "    .dataframe tbody tr th:only-of-type {\n",
       "        vertical-align: middle;\n",
       "    }\n",
       "\n",
       "    .dataframe tbody tr th {\n",
       "        vertical-align: top;\n",
       "    }\n",
       "\n",
       "    .dataframe thead th {\n",
       "        text-align: right;\n",
       "    }\n",
       "</style>\n",
       "<table border=\"1\" class=\"dataframe\">\n",
       "  <thead>\n",
       "    <tr style=\"text-align: right;\">\n",
       "      <th></th>\n",
       "      <th>ID_Pedido</th>\n",
       "      <th>ID_Cliente</th>\n",
       "      <th>Data_Pedido</th>\n",
       "      <th>Produto</th>\n",
       "      <th>Categoria</th>\n",
       "      <th>Preco_Unitario</th>\n",
       "      <th>Quantidade</th>\n",
       "      <th>Valor_Total</th>\n",
       "      <th>Ano</th>\n",
       "      <th>Mês</th>\n",
       "    </tr>\n",
       "  </thead>\n",
       "  <tbody>\n",
       "    <tr>\n",
       "      <th>1312</th>\n",
       "      <td>2312</td>\n",
       "      <td>668</td>\n",
       "      <td>2025-01-06</td>\n",
       "      <td>Corda de Pular</td>\n",
       "      <td>Esportes e Lazer</td>\n",
       "      <td>18.0</td>\n",
       "      <td>3</td>\n",
       "      <td>54.0</td>\n",
       "      <td>2025</td>\n",
       "      <td>1</td>\n",
       "    </tr>\n",
       "  </tbody>\n",
       "</table>\n",
       "</div>"
      ],
      "text/plain": [
       "      ID_Pedido  ID_Cliente Data_Pedido         Produto         Categoria  \\\n",
       "1312       2312         668  2025-01-06  Corda de Pular  Esportes e Lazer   \n",
       "\n",
       "      Preco_Unitario  Quantidade  Valor_Total   Ano  Mês  \n",
       "1312            18.0           3         54.0  2025    1  "
      ]
     },
     "execution_count": 24,
     "metadata": {},
     "output_type": "execute_result"
    }
   ],
   "source": [
    "#Localizando o produto mais barato\n",
    "df=pd.DataFrame(df_ex)\n",
    "produtobarato = df_ex['Preco_Unitario'] == 18.0\n",
    "produtobusc2 = df.loc[produtobarato]\n",
    "produtobusc2"
   ]
  },
  {
   "cell_type": "markdown",
   "id": "5aa0df9b-ab6a-420c-98ab-e2a6c8fffc3c",
   "metadata": {},
   "source": [
    "--------------------------------------------------------------------------------------------------------------------------------------------------------"
   ]
  },
  {
   "cell_type": "markdown",
   "id": "1c1a85ae-0800-469a-b2cb-5e2641c112f4",
   "metadata": {},
   "source": [
    "9. Pedidos com Alta Quantidade\n",
    "\n",
    "Pergunta: Existem pedidos com uma quantidade de itens muito acima da média? Quais são?"
   ]
  },
  {
   "cell_type": "code",
   "execution_count": 25,
   "id": "72d116ab-6f4c-4773-975b-216e87000f61",
   "metadata": {},
   "outputs": [
    {
     "data": {
      "text/plain": [
       "1.7388"
      ]
     },
     "execution_count": 25,
     "metadata": {},
     "output_type": "execute_result"
    }
   ],
   "source": [
    "#Descobrindo primeiramente a média da quantidade por pedido\n",
    "df_ex['Quantidade'].mean()"
   ]
  },
  {
   "cell_type": "code",
   "execution_count": 26,
   "id": "45daf6e8-601a-413e-b75c-da5b91ce4d27",
   "metadata": {},
   "outputs": [
    {
     "data": {
      "text/plain": [
       "5"
      ]
     },
     "execution_count": 26,
     "metadata": {},
     "output_type": "execute_result"
    }
   ],
   "source": [
    "#Verificando agora a quantidade máxima\n",
    "df_ex['Quantidade'].max()"
   ]
  },
  {
   "cell_type": "code",
   "execution_count": 27,
   "id": "a889cff5-7e84-4ec4-be08-ec7ac82197ce",
   "metadata": {},
   "outputs": [
    {
     "data": {
      "text/plain": [
       "8"
      ]
     },
     "execution_count": 27,
     "metadata": {},
     "output_type": "execute_result"
    }
   ],
   "source": [
    "#Seu índice\n",
    "maiorquantia = df_ex['Quantidade'].idxmax()\n",
    "maiorquantia"
   ]
  },
  {
   "cell_type": "code",
   "execution_count": 28,
   "id": "d7e8f26e-94e0-4517-a592-0d0269f5ec3e",
   "metadata": {},
   "outputs": [
    {
     "name": "stdout",
     "output_type": "stream",
     "text": [
      "       ID_Pedido  ID_Cliente Data_Pedido                Produto  \\\n",
      "8           1008         250  2025-05-30        Bola de Futebol   \n",
      "14          1014        1487  2023-08-07             Smartphone   \n",
      "45          1045         726  2024-06-22         Liquidificador   \n",
      "48          1048        1381  2025-03-16         Fone de Ouvido   \n",
      "86          1086        1397  2024-10-30  Bicicleta Ergométrica   \n",
      "...          ...         ...         ...                    ...   \n",
      "14927      15927        1401  2025-02-19        Aspirador de Pó   \n",
      "14942      15942         389  2024-09-07  Bicicleta Ergométrica   \n",
      "14960      15960        1353  2025-05-13      Panela de Pressão   \n",
      "14963      15963        1038  2024-09-19    Carregador Portátil   \n",
      "14964      15964         546  2025-02-05         Fone de Ouvido   \n",
      "\n",
      "              Categoria  Preco_Unitario  Quantidade  Valor_Total   Ano  Mês  \n",
      "8      Esportes e Lazer           55.29           5       276.45  2025    5  \n",
      "14          Eletrônicos         1197.65           5      5988.25  2023    8  \n",
      "45       Casa e Cozinha           78.60           5       393.00  2024    6  \n",
      "48          Eletrônicos          136.39           5       681.95  2025    3  \n",
      "86     Esportes e Lazer          669.58           5      3347.90  2024   10  \n",
      "...                 ...             ...         ...          ...   ...  ...  \n",
      "14927    Casa e Cozinha          299.76           5      1498.80  2025    2  \n",
      "14942  Esportes e Lazer          707.08           5      3535.40  2024    9  \n",
      "14960    Casa e Cozinha          149.34           5       746.70  2025    5  \n",
      "14963       Eletrônicos           87.10           5       435.50  2024    9  \n",
      "14964       Eletrônicos          136.91           5       684.55  2025    2  \n",
      "\n",
      "[748 rows x 10 columns]\n"
     ]
    }
   ],
   "source": [
    "#Como a média da quantidade é um pouco menor do que 2, mostrando pedidos com quantidade igual a 5\n",
    "grandequantidade = df_ex[df_ex['Quantidade'] >= 5]\n",
    "print(grandequantidade)"
   ]
  },
  {
   "cell_type": "markdown",
   "id": "ad268054-a44d-4254-b59e-05fd109aec07",
   "metadata": {},
   "source": [
    "--------------------------------------------------------------------------------------------------------------------------------------------------------"
   ]
  },
  {
   "cell_type": "markdown",
   "id": "ead6a312-0d68-458c-ab92-fdebaf2d45d4",
   "metadata": {},
   "source": [
    "10. Análise de Vendas por Categoria Específica\n",
    "\n",
    "Pergunta: Qual foi o faturamento total e a quantidade vendida especificamente para a categoria \"Eletrônicos\"?"
   ]
  },
  {
   "cell_type": "code",
   "execution_count": 29,
   "id": "fb050795-1b9d-4840-bf14-e247c54e5f8f",
   "metadata": {},
   "outputs": [
    {
     "data": {
      "text/plain": [
       "Categoria\n",
       "Casa e Cozinha        776612.96\n",
       "Eletrônicos          5650573.15\n",
       "Esportes e Lazer     1081963.93\n",
       "Livros                205657.49\n",
       "Moda e Acessórios     670804.43\n",
       "Name: Valor_Total, dtype: float64"
      ]
     },
     "execution_count": 29,
     "metadata": {},
     "output_type": "execute_result"
    }
   ],
   "source": [
    "#Mostrando o faturamento total, sem distinção de categoria\n",
    "fattotal = df_ex.groupby('Categoria')['Valor_Total'].sum()\n",
    "fattotal"
   ]
  },
  {
   "cell_type": "code",
   "execution_count": 30,
   "id": "ef9bbfcc-727e-4cfd-93d3-4b687daa5567",
   "metadata": {},
   "outputs": [],
   "source": [
    "#Criando um Dataframe para filtrar produtos apenas pela categoria Eletrônicos\n",
    "df = pd.DataFrame(df_ex).query(\" Categoria == 'Eletrônicos' \")"
   ]
  },
  {
   "cell_type": "code",
   "execution_count": 31,
   "id": "e1e5aa47-74a0-42cd-83f3-10f633505f54",
   "metadata": {},
   "outputs": [
    {
     "data": {
      "text/plain": [
       "Categoria\n",
       "Eletrônicos    5650573.15\n",
       "Name: Valor_Total, dtype: float64"
      ]
     },
     "execution_count": 31,
     "metadata": {},
     "output_type": "execute_result"
    }
   ],
   "source": [
    "#Faturamento apenas da categoria Eletrônicos\n",
    "df_fatelet = df.groupby('Categoria')['Valor_Total'].sum()\n",
    "df_fatelet"
   ]
  },
  {
   "cell_type": "code",
   "execution_count": 32,
   "id": "cb735abd-451d-410c-b73f-e38af5755d94",
   "metadata": {},
   "outputs": [
    {
     "data": {
      "text/plain": [
       "Categoria\n",
       "Eletrônicos    6334\n",
       "Name: Quantidade, dtype: int64"
      ]
     },
     "execution_count": 32,
     "metadata": {},
     "output_type": "execute_result"
    }
   ],
   "source": [
    "#Quantidade vendida da categoria Eletrônicos\n",
    "df_quantelet = df.groupby('Categoria')['Quantidade'].sum()\n",
    "df_quantelet"
   ]
  },
  {
   "cell_type": "markdown",
   "id": "595e65c0-dd36-4646-b5df-6b3760e99884",
   "metadata": {},
   "source": [
    "--------------------------------------------------------------------------------------------------------------------------------------------------------"
   ]
  },
  {
   "cell_type": "markdown",
   "id": "b0725c26-1c75-442c-8ab7-bbdc420f234c",
   "metadata": {},
   "source": [
    "Parte 2 - Perguntas de negócio com gráficos\n",
    "\n",
    "Exercício de Visualização de Dados (Parte 2)\n",
    "\n",
    "1. Gráfico dos Produtos Mais Populares (Baseado no Exercício 3)\n",
    "Análise Original: Você identificou os 10 produtos mais vendidos em termos de quantidade.\n",
    "\n",
    "Nova Pergunta de Negócio: A equipe de marketing está criando um material para destacar nossos \"produtos campeões\" e precisa de um visual claro para um relatório. Como podemos apresentar os 10 produtos mais vendidos de uma forma que seja fácil de ler e comparar?\n",
    "\n",
    "Sua Tarefa: Crie um gráfico de barras que mostre os 10 produtos mais vendidos (em quantidade)."
   ]
  },
  {
   "cell_type": "code",
   "execution_count": 33,
   "id": "45d4d40a-f042-452e-b35c-898ca87bfbec",
   "metadata": {},
   "outputs": [
    {
     "data": {
      "text/plain": [
       "Produto\n",
       "Cafeteira          1102\n",
       "Notebook           1092\n",
       "Fantasia           1088\n",
       "Smartwatch         1086\n",
       "Bola de Futebol    1084\n",
       "Tablet             1082\n",
       "Óculos de Sol      1082\n",
       "Tênis              1077\n",
       "Camiseta           1067\n",
       "Corda de Pular     1060\n",
       "Name: Quantidade, dtype: int64"
      ]
     },
     "execution_count": 33,
     "metadata": {},
     "output_type": "execute_result"
    }
   ],
   "source": [
    "#Visualizando novamente os 10 produtos mais vendidos\n",
    "prodmaisvend = df_ex.groupby('Produto')['Quantidade'].sum().sort_values(ascending=False).head(10)\n",
    "prodmaisvend"
   ]
  },
  {
   "cell_type": "code",
   "execution_count": 34,
   "id": "ae3bbb7b-972d-4118-b981-9c5302fbc5e3",
   "metadata": {},
   "outputs": [],
   "source": [
    "#Fazendo os imports necessários para responder às perguntas de negócio\n",
    "import matplotlib.pyplot as plt\n",
    "import seaborn as sb"
   ]
  },
  {
   "cell_type": "code",
   "execution_count": 35,
   "id": "3f0e9d56-f2b1-45f3-9b06-ea3931eef26e",
   "metadata": {},
   "outputs": [
    {
     "name": "stdout",
     "output_type": "stream",
     "text": [
      "             prods  quant\n",
      "0        Cafeteira   1102\n",
      "1         Notebook   1092\n",
      "2         Fantasia   1088\n",
      "3       Smartwatch   1086\n",
      "4  Bola de Futebol   1084\n",
      "5           Tablet   1082\n",
      "6    Óculos de Sol   1082\n",
      "7            Tênis   1077\n",
      "8         Camiseta   1067\n",
      "9   Corda de Pular   1060\n"
     ]
    }
   ],
   "source": [
    "#Criando um dataframe à partir dos dados contidos na variável prodmaisvend\n",
    "prods = ['Cafeteira', 'Notebook', 'Fantasia', 'Smartwatch', 'Bola de Futebol', 'Tablet', 'Óculos de Sol', 'Tênis', 'Camiseta', 'Corda de Pular']\n",
    "quant = ['1102', '1092', '1088', '1086', '1084', '1082', '1082', '1077', '1067', '1060']\n",
    "dados = {'prods': prods, 'quant': quant}\n",
    "\n",
    "df = pd.DataFrame(dados)\n",
    "df['quant'] = pd.to_numeric(df['quant']) \n",
    "df = df.sort_values(by='quant', ascending=False)\n",
    "\n",
    "print(df)"
   ]
  },
  {
   "cell_type": "code",
   "execution_count": 36,
   "id": "4aa62d0a-3113-4d9a-bd21-318cd0ce2585",
   "metadata": {},
   "outputs": [
    {
     "data": {
      "image/png": "[encoded data removed]",
      "text/plain": [
       "<Figure size 1200x700 with 1 Axes>"
      ]
     },
     "metadata": {},
     "output_type": "display_data"
    }
   ],
   "source": [
    "#Criando um gráfico de barras na horizontal para demonstrar os dados\n",
    "plt.figure(figsize=(12, 7)) \n",
    "barras = plt.barh(df['prods'], df['quant'], color='brown')\n",
    "plt.xlabel('Produtos', fontsize=12)\n",
    "plt.ylabel('Quantidade de Vendas', fontsize=12)\n",
    "plt.title('10 Produtos Mais Vendidos', fontsize=14) \n",
    "plt.xticks(rotation=45, ha='right')\n",
    "plt.tight_layout()\n",
    "plt.grid(axis='x', linestyle='--', alpha=0.7)\n",
    "plt.show()"
   ]
  },
  {
   "cell_type": "markdown",
   "id": "080dbf7e-6b0f-443e-935c-bad0322180d8",
   "metadata": {},
   "source": [
    "--------------------------------------------------------------------------------------------------------------------------------------------------------"
   ]
  },
  {
   "cell_type": "markdown",
   "id": "e05f1a2c-9d8e-428c-9f48-26c2a703a001",
   "metadata": {},
   "source": [
    "Como o gráfico resultante deste exercício me pareceu tanto \"inútil\" como feio, pedi à IA para que me gerasse perguntas diferentes, dessa vez focando na possibilidade de eu realizar gráficos realmente úteis a partir das perguntas.\n",
    "\n",
    "1. Análise de Vendas por Dia da Semana\n",
    "Pergunta de Negócio: A equipe de marketing quer otimizar os gastos com anúncios e promoções. Para isso, eles precisam saber: \"Existem dias da semana em que vendemos significativamente mais ou menos? Nossas vendas se concentram no fim de semana?\""
   ]
  },
  {
   "cell_type": "code",
   "execution_count": 37,
   "id": "1bc7d7c2-5b62-48b9-8bfb-f73e8118a53a",
   "metadata": {},
   "outputs": [
    {
     "data": {
      "text/html": [
       "<div>\n",
       "<style scoped>\n",
       "    .dataframe tbody tr th:only-of-type {\n",
       "        vertical-align: middle;\n",
       "    }\n",
       "\n",
       "    .dataframe tbody tr th {\n",
       "        vertical-align: top;\n",
       "    }\n",
       "\n",
       "    .dataframe thead th {\n",
       "        text-align: right;\n",
       "    }\n",
       "</style>\n",
       "<table border=\"1\" class=\"dataframe\">\n",
       "  <thead>\n",
       "    <tr style=\"text-align: right;\">\n",
       "      <th></th>\n",
       "      <th>ID_Pedido</th>\n",
       "      <th>ID_Cliente</th>\n",
       "      <th>Data_Pedido</th>\n",
       "      <th>Produto</th>\n",
       "      <th>Categoria</th>\n",
       "      <th>Preco_Unitario</th>\n",
       "      <th>Quantidade</th>\n",
       "      <th>Valor_Total</th>\n",
       "      <th>Ano</th>\n",
       "      <th>Mês</th>\n",
       "    </tr>\n",
       "  </thead>\n",
       "  <tbody>\n",
       "    <tr>\n",
       "      <th>0</th>\n",
       "      <td>1000</td>\n",
       "      <td>905</td>\n",
       "      <td>2024-07-18</td>\n",
       "      <td>Aspirador de Pó</td>\n",
       "      <td>Casa e Cozinha</td>\n",
       "      <td>273.04</td>\n",
       "      <td>1</td>\n",
       "      <td>273.04</td>\n",
       "      <td>2024</td>\n",
       "      <td>7</td>\n",
       "    </tr>\n",
       "    <tr>\n",
       "      <th>1</th>\n",
       "      <td>1001</td>\n",
       "      <td>398</td>\n",
       "      <td>2023-08-28</td>\n",
       "      <td>Biografia</td>\n",
       "      <td>Livros</td>\n",
       "      <td>54.34</td>\n",
       "      <td>1</td>\n",
       "      <td>54.34</td>\n",
       "      <td>2023</td>\n",
       "      <td>8</td>\n",
       "    </tr>\n",
       "    <tr>\n",
       "      <th>2</th>\n",
       "      <td>1002</td>\n",
       "      <td>897</td>\n",
       "      <td>2024-09-02</td>\n",
       "      <td>Bicicleta Ergométrica</td>\n",
       "      <td>Esportes e Lazer</td>\n",
       "      <td>658.70</td>\n",
       "      <td>3</td>\n",
       "      <td>1976.10</td>\n",
       "      <td>2024</td>\n",
       "      <td>9</td>\n",
       "    </tr>\n",
       "    <tr>\n",
       "      <th>3</th>\n",
       "      <td>1003</td>\n",
       "      <td>822</td>\n",
       "      <td>2024-11-01</td>\n",
       "      <td>Cafeteira</td>\n",
       "      <td>Casa e Cozinha</td>\n",
       "      <td>130.29</td>\n",
       "      <td>4</td>\n",
       "      <td>521.16</td>\n",
       "      <td>2024</td>\n",
       "      <td>11</td>\n",
       "    </tr>\n",
       "    <tr>\n",
       "      <th>4</th>\n",
       "      <td>1004</td>\n",
       "      <td>1116</td>\n",
       "      <td>2024-02-26</td>\n",
       "      <td>Bola de Futebol</td>\n",
       "      <td>Esportes e Lazer</td>\n",
       "      <td>56.29</td>\n",
       "      <td>1</td>\n",
       "      <td>56.29</td>\n",
       "      <td>2024</td>\n",
       "      <td>2</td>\n",
       "    </tr>\n",
       "  </tbody>\n",
       "</table>\n",
       "</div>"
      ],
      "text/plain": [
       "   ID_Pedido  ID_Cliente Data_Pedido                Produto         Categoria  \\\n",
       "0       1000         905  2024-07-18        Aspirador de Pó    Casa e Cozinha   \n",
       "1       1001         398  2023-08-28              Biografia            Livros   \n",
       "2       1002         897  2024-09-02  Bicicleta Ergométrica  Esportes e Lazer   \n",
       "3       1003         822  2024-11-01              Cafeteira    Casa e Cozinha   \n",
       "4       1004        1116  2024-02-26        Bola de Futebol  Esportes e Lazer   \n",
       "\n",
       "   Preco_Unitario  Quantidade  Valor_Total   Ano  Mês  \n",
       "0          273.04           1       273.04  2024    7  \n",
       "1           54.34           1        54.34  2023    8  \n",
       "2          658.70           3      1976.10  2024    9  \n",
       "3          130.29           4       521.16  2024   11  \n",
       "4           56.29           1        56.29  2024    2  "
      ]
     },
     "execution_count": 37,
     "metadata": {},
     "output_type": "execute_result"
    }
   ],
   "source": [
    "#Visualização dos dados para facilitar o raciocínio\n",
    "df_ex.head()"
   ]
  },
  {
   "cell_type": "markdown",
   "id": "c0377c7a-1823-4311-9de5-d9cc320598ef",
   "metadata": {},
   "source": [
    "Pseudocódigo para resolução do problema:\n",
    "\n",
    "- Extrair dia da semana da coluna Data_Pedido (criando uma nova coluna)\n",
    "- Somar os valores totais de venda para cada dia da semana\n",
    "- Criar um gráfico para demosntração dos resultados"
   ]
  },
  {
   "cell_type": "code",
   "execution_count": 38,
   "id": "4ccaa4ee-6ae6-459c-9687-7a213d60dc24",
   "metadata": {},
   "outputs": [],
   "source": [
    "#Extração do dia da semana a partir da coluna Data_Pedido e tradução direta dos dados de inglês para PT-BR\n",
    "df_ex['Data_Pedido'] = pd.to_datetime(df_ex['Data_Pedido'])\n",
    "df_ex['Dia_Semana'] = df_ex['Data_Pedido'].dt.day_name(locale='pt_BR')"
   ]
  },
  {
   "cell_type": "code",
   "execution_count": 39,
   "id": "97812278-45ec-4906-b620-32944b5fef61",
   "metadata": {},
   "outputs": [
    {
     "data": {
      "text/html": [
       "<div>\n",
       "<style scoped>\n",
       "    .dataframe tbody tr th:only-of-type {\n",
       "        vertical-align: middle;\n",
       "    }\n",
       "\n",
       "    .dataframe tbody tr th {\n",
       "        vertical-align: top;\n",
       "    }\n",
       "\n",
       "    .dataframe thead th {\n",
       "        text-align: right;\n",
       "    }\n",
       "</style>\n",
       "<table border=\"1\" class=\"dataframe\">\n",
       "  <thead>\n",
       "    <tr style=\"text-align: right;\">\n",
       "      <th></th>\n",
       "      <th>ID_Pedido</th>\n",
       "      <th>ID_Cliente</th>\n",
       "      <th>Data_Pedido</th>\n",
       "      <th>Produto</th>\n",
       "      <th>Categoria</th>\n",
       "      <th>Preco_Unitario</th>\n",
       "      <th>Quantidade</th>\n",
       "      <th>Valor_Total</th>\n",
       "      <th>Ano</th>\n",
       "      <th>Mês</th>\n",
       "      <th>Dia_Semana</th>\n",
       "    </tr>\n",
       "  </thead>\n",
       "  <tbody>\n",
       "    <tr>\n",
       "      <th>0</th>\n",
       "      <td>1000</td>\n",
       "      <td>905</td>\n",
       "      <td>2024-07-18</td>\n",
       "      <td>Aspirador de Pó</td>\n",
       "      <td>Casa e Cozinha</td>\n",
       "      <td>273.04</td>\n",
       "      <td>1</td>\n",
       "      <td>273.04</td>\n",
       "      <td>2024</td>\n",
       "      <td>7</td>\n",
       "      <td>Quinta-feira</td>\n",
       "    </tr>\n",
       "    <tr>\n",
       "      <th>1</th>\n",
       "      <td>1001</td>\n",
       "      <td>398</td>\n",
       "      <td>2023-08-28</td>\n",
       "      <td>Biografia</td>\n",
       "      <td>Livros</td>\n",
       "      <td>54.34</td>\n",
       "      <td>1</td>\n",
       "      <td>54.34</td>\n",
       "      <td>2023</td>\n",
       "      <td>8</td>\n",
       "      <td>Segunda-feira</td>\n",
       "    </tr>\n",
       "    <tr>\n",
       "      <th>2</th>\n",
       "      <td>1002</td>\n",
       "      <td>897</td>\n",
       "      <td>2024-09-02</td>\n",
       "      <td>Bicicleta Ergométrica</td>\n",
       "      <td>Esportes e Lazer</td>\n",
       "      <td>658.70</td>\n",
       "      <td>3</td>\n",
       "      <td>1976.10</td>\n",
       "      <td>2024</td>\n",
       "      <td>9</td>\n",
       "      <td>Segunda-feira</td>\n",
       "    </tr>\n",
       "    <tr>\n",
       "      <th>3</th>\n",
       "      <td>1003</td>\n",
       "      <td>822</td>\n",
       "      <td>2024-11-01</td>\n",
       "      <td>Cafeteira</td>\n",
       "      <td>Casa e Cozinha</td>\n",
       "      <td>130.29</td>\n",
       "      <td>4</td>\n",
       "      <td>521.16</td>\n",
       "      <td>2024</td>\n",
       "      <td>11</td>\n",
       "      <td>Sexta-feira</td>\n",
       "    </tr>\n",
       "    <tr>\n",
       "      <th>4</th>\n",
       "      <td>1004</td>\n",
       "      <td>1116</td>\n",
       "      <td>2024-02-26</td>\n",
       "      <td>Bola de Futebol</td>\n",
       "      <td>Esportes e Lazer</td>\n",
       "      <td>56.29</td>\n",
       "      <td>1</td>\n",
       "      <td>56.29</td>\n",
       "      <td>2024</td>\n",
       "      <td>2</td>\n",
       "      <td>Segunda-feira</td>\n",
       "    </tr>\n",
       "  </tbody>\n",
       "</table>\n",
       "</div>"
      ],
      "text/plain": [
       "   ID_Pedido  ID_Cliente Data_Pedido                Produto         Categoria  \\\n",
       "0       1000         905  2024-07-18        Aspirador de Pó    Casa e Cozinha   \n",
       "1       1001         398  2023-08-28              Biografia            Livros   \n",
       "2       1002         897  2024-09-02  Bicicleta Ergométrica  Esportes e Lazer   \n",
       "3       1003         822  2024-11-01              Cafeteira    Casa e Cozinha   \n",
       "4       1004        1116  2024-02-26        Bola de Futebol  Esportes e Lazer   \n",
       "\n",
       "   Preco_Unitario  Quantidade  Valor_Total   Ano  Mês     Dia_Semana  \n",
       "0          273.04           1       273.04  2024    7   Quinta-feira  \n",
       "1           54.34           1        54.34  2023    8  Segunda-feira  \n",
       "2          658.70           3      1976.10  2024    9  Segunda-feira  \n",
       "3          130.29           4       521.16  2024   11    Sexta-feira  \n",
       "4           56.29           1        56.29  2024    2  Segunda-feira  "
      ]
     },
     "execution_count": 39,
     "metadata": {},
     "output_type": "execute_result"
    }
   ],
   "source": [
    "#Visualização da nova coluna criada\n",
    "df_ex.head()"
   ]
  },
  {
   "cell_type": "code",
   "execution_count": 40,
   "id": "0dcff4ea-3de5-4769-bd2a-bdd3a2bf2fcf",
   "metadata": {},
   "outputs": [
    {
     "data": {
      "text/plain": [
       "Dia_Semana\n",
       "Terça-feira      1235012.75\n",
       "Sexta-feira      1230547.59\n",
       "Sábado           1223197.09\n",
       "Quinta-feira     1201313.28\n",
       "Segunda-feira    1184533.65\n",
       "Quarta-feira     1182075.55\n",
       "Domingo          1128932.05\n",
       "Name: Valor_Total, dtype: float64"
      ]
     },
     "execution_count": 40,
     "metadata": {},
     "output_type": "execute_result"
    }
   ],
   "source": [
    "#Calculando a soma do total de vendas para cada dia da semana e ordenando\n",
    "vendaspordia = df_ex.groupby('Dia_Semana')['Valor_Total'].sum().sort_values(ascending=False)\n",
    "vendaspordia"
   ]
  },
  {
   "cell_type": "code",
   "execution_count": 41,
   "id": "88d28516-dc19-4966-b674-1842f3dbf9cf",
   "metadata": {},
   "outputs": [
    {
     "data": {
      "image/png": "[encoded data removed]",
      "text/plain": [
       "<Figure size 1200x700 with 1 Axes>"
      ]
     },
     "metadata": {},
     "output_type": "display_data"
    }
   ],
   "source": [
    "#Criando o gráfico com o total de vendas por dia da semana\n",
    "plt.figure(figsize=(12, 7))\n",
    "grafico = plt.bar(vendaspordia.index, vendaspordia.values, color='skyblue')\n",
    "plt.xlabel('Dia da Semana', fontsize=12)\n",
    "plt.ylabel('Total de Vendas', fontsize=12)\n",
    "plt.title('Total de Vendas por Dia da Semana (Ordenado)', fontsize=14)\n",
    "plt.xticks(rotation=0, ha='center', fontsize = 12) \n",
    "plt.tight_layout()\n",
    "plt.grid(axis='y', linestyle='--', alpha=0.5)\n",
    "for bar in grafico:\n",
    "    yval = bar.get_height()\n",
    "    plt.text(\n",
    "        bar.get_x() + bar.get_width()/2, \n",
    "        yval + (max(vendaspordia.values) * 0.005), \n",
    "        f'R$ {yval:,.2f}', \n",
    "        ha='center', \n",
    "        va='bottom', \n",
    "        fontsize=9, \n",
    "        color='black' \n",
    "    )\n",
    "\n",
    "plt.show()"
   ]
  },
  {
   "cell_type": "markdown",
   "id": "4038177f-c8a2-4a21-85c2-d47bda1cff1e",
   "metadata": {},
   "source": [
    "Conclusões: Em resumo, os dias em que vendemos mais são: Terça-feira, sexta-feira e sábado, sendo domingo o dia em que vendemos menos e, portanto, não havendo um volume necessariamente maior de vendas nos finais de semana em comparação com os dias de semana."
   ]
  },
  {
   "cell_type": "markdown",
   "id": "0933b42a-67ea-4219-ad4f-c0f3aaaf1ba9",
   "metadata": {},
   "source": [
    "--------------------------------------------------------------------------------------------------------------------------------------------------------"
   ]
  },
  {
   "cell_type": "markdown",
   "id": "26c50881-a2ba-4087-85e7-8cb17de8c253",
   "metadata": {},
   "source": [
    "2. Distribuição de Receita por Faixa de Preço\n",
    "\n",
    "Pergunta de Negócio: O time de estratégia de produtos quer entender de onde vem a maior parte da nossa receita. \"Será que ganhamos mais dinheiro vendendo muitos itens baratos ou vendendo poucos itens caros? Em qual faixa de preço deveríamos concentrar nosso marketing?\""
   ]
  },
  {
   "cell_type": "code",
   "execution_count": 42,
   "id": "b39c8ae9-3d3c-4c1d-83de-0a69b941eb43",
   "metadata": {},
   "outputs": [
    {
     "data": {
      "text/plain": [
       "2748.53"
      ]
     },
     "execution_count": 42,
     "metadata": {},
     "output_type": "execute_result"
    }
   ],
   "source": [
    "#Primeiro, entendendo qual é a faixa de preço do produto mais caro e depois do mais barato\n",
    "df_ex['Preco_Unitario'].max()"
   ]
  },
  {
   "cell_type": "code",
   "execution_count": 43,
   "id": "b041c799-ed6d-45a0-b963-4ea52dcbd52d",
   "metadata": {},
   "outputs": [
    {
     "data": {
      "text/plain": [
       "18.0"
      ]
     },
     "execution_count": 43,
     "metadata": {},
     "output_type": "execute_result"
    }
   ],
   "source": [
    "df_ex['Preco_Unitario'].min()"
   ]
  },
  {
   "cell_type": "code",
   "execution_count": 44,
   "id": "fbb48600-1be1-48d4-b0d8-50cc9a30f18b",
   "metadata": {},
   "outputs": [
    {
     "name": "stdout",
     "output_type": "stream",
     "text": [
      "DataFrame com a nova coluna 'Faixa_Preco':\n",
      "       ID_Pedido  ID_Cliente Data_Pedido                Produto  \\\n",
      "0           1000         905  2024-07-18        Aspirador de Pó   \n",
      "1           1001         398  2023-08-28              Biografia   \n",
      "2           1002         897  2024-09-02  Bicicleta Ergométrica   \n",
      "3           1003         822  2024-11-01              Cafeteira   \n",
      "4           1004        1116  2024-02-26        Bola de Futebol   \n",
      "...          ...         ...         ...                    ...   \n",
      "14995      15995         264  2025-05-28         Liquidificador   \n",
      "14996      15996         251  2024-08-06               Fantasia   \n",
      "14997      15997        1478  2025-06-03     Barraca de Camping   \n",
      "14998      15998         312  2024-03-27      Panela de Pressão   \n",
      "14999      15999         219  2024-02-27    Carregador Portátil   \n",
      "\n",
      "              Categoria  Preco_Unitario  Quantidade  Valor_Total   Ano  Mês  \\\n",
      "0        Casa e Cozinha          273.04           1       273.04  2024    7   \n",
      "1                Livros           54.34           1        54.34  2023    8   \n",
      "2      Esportes e Lazer          658.70           3      1976.10  2024    9   \n",
      "3        Casa e Cozinha          130.29           4       521.16  2024   11   \n",
      "4      Esportes e Lazer           56.29           1        56.29  2024    2   \n",
      "...                 ...             ...         ...          ...   ...  ...   \n",
      "14995    Casa e Cozinha           76.17           2       152.34  2025    5   \n",
      "14996            Livros           42.08           1        42.08  2024    8   \n",
      "14997  Esportes e Lazer          229.62           1       229.62  2025    6   \n",
      "14998    Casa e Cozinha          158.29           1       158.29  2024    3   \n",
      "14999       Eletrônicos           90.52           1        90.52  2024    2   \n",
      "\n",
      "          Dia_Semana  Faixa_Preco  \n",
      "0       Quinta-feira    R$0 - 350  \n",
      "1      Segunda-feira    R$0 - 350  \n",
      "2      Segunda-feira  R$351 - 700  \n",
      "3        Sexta-feira    R$0 - 350  \n",
      "4      Segunda-feira    R$0 - 350  \n",
      "...              ...          ...  \n",
      "14995   Quarta-feira    R$0 - 350  \n",
      "14996    Terça-feira    R$0 - 350  \n",
      "14997    Terça-feira    R$0 - 350  \n",
      "14998   Quarta-feira    R$0 - 350  \n",
      "14999    Terça-feira    R$0 - 350  \n",
      "\n",
      "[15000 rows x 12 columns]\n"
     ]
    }
   ],
   "source": [
    "#Depois, criando faixas de preço baseadas nos valores mínimo e máximo. Aproximando, o preço máximo se encontra na faixa de R$2800, enquanto o mínimo\n",
    "#custa apenas R$18,00. Dividindo o valor máximo (R$2800) em 8 partes (para assim podermos criar um gráfico com uma distribuição interessante), o intervalo \n",
    "#na faixa de preços será de R$350,00.\n",
    "\n",
    "df_ex['Valor_Total'] = pd.to_numeric(df_ex['Valor_Total'], errors='coerce')\n",
    "df_ex.dropna(subset=['Valor_Total'], inplace=True)\n",
    "\n",
    "bins = [0, 350, 700, 1050, 1400, 1750, 2100, 2450, 2800]\n",
    "labels = ['R$0 - 350', 'R$351 - 700', 'R$701 - 1050', 'R$1051 - 1400', 'R$1401 - 1750', 'R$1751 - 2100', 'R$2101 - 2450', 'R$2451 - 2800']\n",
    "df_ex['Faixa_Preco'] = pd.cut(x=df_ex['Preco_Unitario'], bins=bins, labels=labels, right=True)\n",
    "\n",
    "print(\"DataFrame com a nova coluna 'Faixa_Preco':\")\n",
    "print(df_ex)"
   ]
  },
  {
   "cell_type": "code",
   "execution_count": 45,
   "id": "e92db59e-f30f-444f-8e8f-3686122e2f41",
   "metadata": {},
   "outputs": [
    {
     "data": {
      "text/plain": [
       "Faixa_Preco\n",
       "R$0 - 350        2230314.42\n",
       "R$351 - 700       862934.75\n",
       "R$701 - 1050     1295033.68\n",
       "R$1051 - 1400    1268265.13\n",
       "R$1401 - 1750          0.00\n",
       "R$1751 - 2100          0.00\n",
       "R$2101 - 2450    1091322.66\n",
       "R$2451 - 2800    1637741.32\n",
       "Name: Valor_Total, dtype: float64"
      ]
     },
     "execution_count": 45,
     "metadata": {},
     "output_type": "execute_result"
    }
   ],
   "source": [
    "#Fazendo as somas das vendas totais por faixas de preço estabelecidas\n",
    "totalporfaixa = df_ex.groupby('Faixa_Preco', observed=False)['Valor_Total'].sum().sort_index()\n",
    "totalporfaixa"
   ]
  },
  {
   "cell_type": "code",
   "execution_count": 46,
   "id": "5eb24fc5-2e59-4be5-bbed-c9b18993a247",
   "metadata": {},
   "outputs": [
    {
     "data": {
      "image/png": "[encoded data removed]",
      "text/plain": [
       "<Figure size 1200x700 with 1 Axes>"
      ]
     },
     "metadata": {},
     "output_type": "display_data"
    }
   ],
   "source": [
    "#Criando o gráfico as vendas totais por faixa de preço\n",
    "plt.figure(figsize=(12, 7))\n",
    "grafico = plt.bar(totalporfaixa.index, totalporfaixa.values, color='red')\n",
    "plt.xlabel('Faixa de Preço', fontsize=12)\n",
    "plt.ylabel('Total de Vendas', fontsize=12)\n",
    "plt.title('Total de Vendas (em Milhões) por Faixa de Preço Estipulada', fontsize=14)\n",
    "plt.xticks(rotation=0, ha='center', fontsize = 10) \n",
    "plt.tight_layout()\n",
    "plt.grid(axis='y', linestyle='--', alpha=0.5)\n",
    "for bar in grafico:\n",
    "    yval = bar.get_height()\n",
    "    plt.text(\n",
    "        bar.get_x() + bar.get_width()/2, \n",
    "        yval + (max(totalporfaixa.values) * 0.005), \n",
    "        f'R$ {yval:,.2f}', \n",
    "        ha='center', \n",
    "        va='bottom', \n",
    "        fontsize=9, \n",
    "        color='black' \n",
    "    )\n",
    "\n",
    "plt.show()"
   ]
  },
  {
   "cell_type": "markdown",
   "id": "93732d2b-983e-436a-b3b7-58a615aea3db",
   "metadata": {},
   "source": [
    "Possíveis conclusões: O maior lucro vem dos produtos mais baratos (entre 0 a 350 reais), seguidos da faixa de preço mais cara (2450 a 2800 reais) e da terceira e quarta faixa de preço mais baratas (de 701 a 1050 e 1051 a 1400 reais). Não existem produtos no catálogo na faixa de preços entre 1401 a 2100, faixa intermediária. Excluindo-se tais faixas, as faixas de preço que menos vendem são a segunda mais barata, de 351 a 700 e a segunda mais cara, entre 2101 e 2450 reais."
   ]
  },
  {
   "cell_type": "markdown",
   "id": "d21d9d0c-c8eb-41c6-9542-e22a96ed378a",
   "metadata": {},
   "source": [
    "--------------------------------------------------------------------------------------------------------------------------------------------------------"
   ]
  },
  {
   "cell_type": "markdown",
   "id": "e9e34b8e-e2a5-41a7-a5b2-ffbaf5164702",
   "metadata": {},
   "source": [
    "3. Relação Entre Preço e Quantidade \n",
    "Pergunta de Negócio: Existe uma teoria na empresa de que clientes só compram múltiplas unidades de produtos quando eles são baratos. \"Podemos confirmar visualmente se existe uma relação entre o preço unitário de um item e a quantidade que os clientes compram por pedido?\""
   ]
  },
  {
   "cell_type": "code",
   "execution_count": 47,
   "id": "3cd8d5f9-b3cc-4a8d-9181-12f1b24f1b48",
   "metadata": {},
   "outputs": [
    {
     "data": {
      "text/html": [
       "<div>\n",
       "<style scoped>\n",
       "    .dataframe tbody tr th:only-of-type {\n",
       "        vertical-align: middle;\n",
       "    }\n",
       "\n",
       "    .dataframe tbody tr th {\n",
       "        vertical-align: top;\n",
       "    }\n",
       "\n",
       "    .dataframe thead th {\n",
       "        text-align: right;\n",
       "    }\n",
       "</style>\n",
       "<table border=\"1\" class=\"dataframe\">\n",
       "  <thead>\n",
       "    <tr style=\"text-align: right;\">\n",
       "      <th></th>\n",
       "      <th>ID_Pedido</th>\n",
       "      <th>ID_Cliente</th>\n",
       "      <th>Data_Pedido</th>\n",
       "      <th>Produto</th>\n",
       "      <th>Categoria</th>\n",
       "      <th>Preco_Unitario</th>\n",
       "      <th>Quantidade</th>\n",
       "      <th>Valor_Total</th>\n",
       "      <th>Ano</th>\n",
       "      <th>Mês</th>\n",
       "      <th>Dia_Semana</th>\n",
       "      <th>Faixa_Preco</th>\n",
       "    </tr>\n",
       "  </thead>\n",
       "  <tbody>\n",
       "    <tr>\n",
       "      <th>0</th>\n",
       "      <td>1000</td>\n",
       "      <td>905</td>\n",
       "      <td>2024-07-18</td>\n",
       "      <td>Aspirador de Pó</td>\n",
       "      <td>Casa e Cozinha</td>\n",
       "      <td>273.04</td>\n",
       "      <td>1</td>\n",
       "      <td>273.04</td>\n",
       "      <td>2024</td>\n",
       "      <td>7</td>\n",
       "      <td>Quinta-feira</td>\n",
       "      <td>R$0 - 350</td>\n",
       "    </tr>\n",
       "    <tr>\n",
       "      <th>1</th>\n",
       "      <td>1001</td>\n",
       "      <td>398</td>\n",
       "      <td>2023-08-28</td>\n",
       "      <td>Biografia</td>\n",
       "      <td>Livros</td>\n",
       "      <td>54.34</td>\n",
       "      <td>1</td>\n",
       "      <td>54.34</td>\n",
       "      <td>2023</td>\n",
       "      <td>8</td>\n",
       "      <td>Segunda-feira</td>\n",
       "      <td>R$0 - 350</td>\n",
       "    </tr>\n",
       "    <tr>\n",
       "      <th>2</th>\n",
       "      <td>1002</td>\n",
       "      <td>897</td>\n",
       "      <td>2024-09-02</td>\n",
       "      <td>Bicicleta Ergométrica</td>\n",
       "      <td>Esportes e Lazer</td>\n",
       "      <td>658.70</td>\n",
       "      <td>3</td>\n",
       "      <td>1976.10</td>\n",
       "      <td>2024</td>\n",
       "      <td>9</td>\n",
       "      <td>Segunda-feira</td>\n",
       "      <td>R$351 - 700</td>\n",
       "    </tr>\n",
       "    <tr>\n",
       "      <th>3</th>\n",
       "      <td>1003</td>\n",
       "      <td>822</td>\n",
       "      <td>2024-11-01</td>\n",
       "      <td>Cafeteira</td>\n",
       "      <td>Casa e Cozinha</td>\n",
       "      <td>130.29</td>\n",
       "      <td>4</td>\n",
       "      <td>521.16</td>\n",
       "      <td>2024</td>\n",
       "      <td>11</td>\n",
       "      <td>Sexta-feira</td>\n",
       "      <td>R$0 - 350</td>\n",
       "    </tr>\n",
       "    <tr>\n",
       "      <th>4</th>\n",
       "      <td>1004</td>\n",
       "      <td>1116</td>\n",
       "      <td>2024-02-26</td>\n",
       "      <td>Bola de Futebol</td>\n",
       "      <td>Esportes e Lazer</td>\n",
       "      <td>56.29</td>\n",
       "      <td>1</td>\n",
       "      <td>56.29</td>\n",
       "      <td>2024</td>\n",
       "      <td>2</td>\n",
       "      <td>Segunda-feira</td>\n",
       "      <td>R$0 - 350</td>\n",
       "    </tr>\n",
       "  </tbody>\n",
       "</table>\n",
       "</div>"
      ],
      "text/plain": [
       "   ID_Pedido  ID_Cliente Data_Pedido                Produto         Categoria  \\\n",
       "0       1000         905  2024-07-18        Aspirador de Pó    Casa e Cozinha   \n",
       "1       1001         398  2023-08-28              Biografia            Livros   \n",
       "2       1002         897  2024-09-02  Bicicleta Ergométrica  Esportes e Lazer   \n",
       "3       1003         822  2024-11-01              Cafeteira    Casa e Cozinha   \n",
       "4       1004        1116  2024-02-26        Bola de Futebol  Esportes e Lazer   \n",
       "\n",
       "   Preco_Unitario  Quantidade  Valor_Total   Ano  Mês     Dia_Semana  \\\n",
       "0          273.04           1       273.04  2024    7   Quinta-feira   \n",
       "1           54.34           1        54.34  2023    8  Segunda-feira   \n",
       "2          658.70           3      1976.10  2024    9  Segunda-feira   \n",
       "3          130.29           4       521.16  2024   11    Sexta-feira   \n",
       "4           56.29           1        56.29  2024    2  Segunda-feira   \n",
       "\n",
       "   Faixa_Preco  \n",
       "0    R$0 - 350  \n",
       "1    R$0 - 350  \n",
       "2  R$351 - 700  \n",
       "3    R$0 - 350  \n",
       "4    R$0 - 350  "
      ]
     },
     "execution_count": 47,
     "metadata": {},
     "output_type": "execute_result"
    }
   ],
   "source": [
    "#Visualizando os dados novamente\n",
    "df_ex.head()"
   ]
  },
  {
   "cell_type": "code",
   "execution_count": 48,
   "id": "2bbb52ec-3a2e-49ed-b9a3-da9ab84e8b58",
   "metadata": {},
   "outputs": [
    {
     "data": {
      "text/html": [
       "<div>\n",
       "<style scoped>\n",
       "    .dataframe tbody tr th:only-of-type {\n",
       "        vertical-align: middle;\n",
       "    }\n",
       "\n",
       "    .dataframe tbody tr th {\n",
       "        vertical-align: top;\n",
       "    }\n",
       "\n",
       "    .dataframe thead th {\n",
       "        text-align: right;\n",
       "    }\n",
       "</style>\n",
       "<table border=\"1\" class=\"dataframe\">\n",
       "  <thead>\n",
       "    <tr style=\"text-align: right;\">\n",
       "      <th></th>\n",
       "      <th>Preco_Unitario</th>\n",
       "      <th>Quantidade</th>\n",
       "    </tr>\n",
       "  </thead>\n",
       "  <tbody>\n",
       "    <tr>\n",
       "      <th>0</th>\n",
       "      <td>45.74</td>\n",
       "      <td>14</td>\n",
       "    </tr>\n",
       "    <tr>\n",
       "      <th>1</th>\n",
       "      <td>19.97</td>\n",
       "      <td>14</td>\n",
       "    </tr>\n",
       "    <tr>\n",
       "      <th>2</th>\n",
       "      <td>21.96</td>\n",
       "      <td>14</td>\n",
       "    </tr>\n",
       "    <tr>\n",
       "      <th>3</th>\n",
       "      <td>48.13</td>\n",
       "      <td>13</td>\n",
       "    </tr>\n",
       "    <tr>\n",
       "      <th>4</th>\n",
       "      <td>53.59</td>\n",
       "      <td>13</td>\n",
       "    </tr>\n",
       "    <tr>\n",
       "      <th>...</th>\n",
       "      <td>...</td>\n",
       "      <td>...</td>\n",
       "    </tr>\n",
       "    <tr>\n",
       "      <th>11396</th>\n",
       "      <td>56.75</td>\n",
       "      <td>1</td>\n",
       "    </tr>\n",
       "    <tr>\n",
       "      <th>11397</th>\n",
       "      <td>181.53</td>\n",
       "      <td>1</td>\n",
       "    </tr>\n",
       "    <tr>\n",
       "      <th>11398</th>\n",
       "      <td>181.49</td>\n",
       "      <td>1</td>\n",
       "    </tr>\n",
       "    <tr>\n",
       "      <th>11399</th>\n",
       "      <td>181.48</td>\n",
       "      <td>1</td>\n",
       "    </tr>\n",
       "    <tr>\n",
       "      <th>11400</th>\n",
       "      <td>166.47</td>\n",
       "      <td>1</td>\n",
       "    </tr>\n",
       "  </tbody>\n",
       "</table>\n",
       "<p>11401 rows × 2 columns</p>\n",
       "</div>"
      ],
      "text/plain": [
       "       Preco_Unitario  Quantidade\n",
       "0               45.74          14\n",
       "1               19.97          14\n",
       "2               21.96          14\n",
       "3               48.13          13\n",
       "4               53.59          13\n",
       "...               ...         ...\n",
       "11396           56.75           1\n",
       "11397          181.53           1\n",
       "11398          181.49           1\n",
       "11399          181.48           1\n",
       "11400          166.47           1\n",
       "\n",
       "[11401 rows x 2 columns]"
      ]
     },
     "execution_count": 48,
     "metadata": {},
     "output_type": "execute_result"
    }
   ],
   "source": [
    "#Fazendo um groupby entre as colunas Preço Unitário e Quantidade e transformando a variável em dataframe para poder manipulá-la no gráfico\n",
    "vendaporquant = df_ex.groupby('Preco_Unitario')['Quantidade'].sum().sort_values(ascending=False)\n",
    "vendaporquantdf = vendaporquant.reset_index()\n",
    "vendaporquantdf"
   ]
  },
  {
   "cell_type": "code",
   "execution_count": 49,
   "id": "f98c5520-44bf-4575-b3f8-167c4ff8752d",
   "metadata": {},
   "outputs": [
    {
     "data": {
      "image/png": "[encoded data removed]",
      "text/plain": [
       "<Figure size 1200x700 with 2 Axes>"
      ]
     },
     "metadata": {},
     "output_type": "display_data"
    }
   ],
   "source": [
    "#Criando o gráfico Scatter Plot para responder à pergunta de negócio e também uma linha de tendência para facilitar o entendimento\n",
    "\n",
    "plt.figure(figsize=(12, 7))\n",
    "grafico = plt.scatter(\n",
    "    vendaporquantdf['Preco_Unitario'],\n",
    "    vendaporquantdf['Quantidade'],\n",
    "    c=vendaporquantdf['Quantidade'], \n",
    "    s=vendaporquantdf['Quantidade'] * 5,  \n",
    "    cmap='plasma',  \n",
    "    alpha=0.8,\n",
    ")\n",
    "a, b = np.polyfit(vendaporquant.index, vendaporquant.values, 1)\n",
    "x_linha = np.array([vendaporquant.index.min(), vendaporquant.index.max()])\n",
    "y_linha = a * x_linha + b\n",
    "plt.plot(x_linha, y_linha, color='red', linestyle='--', label=f'Tendência')\n",
    "plt.xlabel('Preço Unitário', fontsize=12)\n",
    "plt.ylabel('Quantidade Vendidas', fontsize=12)\n",
    "plt.title('Quantidade de Produtos Vendidos por Preço do Produto', fontsize=14)\n",
    "plt.xticks(rotation=0, ha='center', fontsize = 12) \n",
    "plt.grid(axis='y', linestyle='--', alpha=0.5)\n",
    "cbar = plt.colorbar(grafico)\n",
    "cbar.set_label('Quantidade Vendida', fontsize=12)\n",
    "plt.legend()\n",
    "\n",
    "plt.show()"
   ]
  },
  {
   "cell_type": "markdown",
   "id": "626e3cdd-d73a-4476-9cb8-b9be9492abd5",
   "metadata": {},
   "source": [
    "Podemos concluir com a ajuda da linha de tendência que sim, quanto maior o preço dos produtos, em geral menor quantidade eles vendem. Não obstante, os produtos com maiores quantidades vendidas (de 8 para cima) possuem quase todos preço inferior a 500 reais, o que reforça o insight obtido pela linha de tendência. Há um \"vão\" no gráfico pela inexistência de produtos com preço na faixa dos 1400 a 2100 reais, como demonstrado no gráfico anterior."
   ]
  },
  {
   "cell_type": "markdown",
   "id": "0f785ae1-4d09-4a5b-8b78-99835a6ed7fd",
   "metadata": {},
   "source": [
    "Quando perguntei para a IA se a minha solução estaria correta, ela disse que:\n",
    "\n",
    "\"No entanto, temos que discutir um ponto conceitual muito importante na preparação dos dados, que muda completamente o significado da sua análise. Sua conclusão está correta para o gráfico que você gerou, mas o gráfico não responde à pergunta de negócio original.\n",
    "\n",
    "Vamos analisar isso em detalhes.\n",
    "\n",
    "A Pergunta de Negócio Original vs. a Análise Realizada\n",
    "A Pergunta Original: \"Será que existe uma relação entre o preço de um produto e a quantidade que os clientes compram em uma única transação?\"\n",
    "\n",
    "O objetivo era ver, para cada venda individual, se itens mais baratos levavam a uma Quantidade maior naquele pedido específico. A análise deveria ter um ponto para cada linha do DataFrame original.\n",
    "\n",
    "O que sua Análise Fez: Ao usar df_ex.groupby('Preco_Unitario')['Quantidade'].sum(), você não analisou as transações individuais. Em vez disso, você respondeu a uma pergunta diferente: \"Qual é o volume total de unidades vendidas para cada preço de produto existente no catálogo?\" \"\n",
    "\n",
    "E gerou o gráfico abaixo, que acredito ser muito menos informativo e útil do que o gráfico que eu gerei (ainda que não respondendo diretamente a pergunta de negócio feita).\n",
    "\n",
    "Ainda assim, é possível perceber a tendência de que, quanto maior for o preço do produto, em geral menor será a quantidade comprada por pedido."
   ]
  },
  {
   "cell_type": "code",
   "execution_count": 50,
   "id": "1b4810d6-f72b-4b44-a6ae-a9aade7c165c",
   "metadata": {},
   "outputs": [
    {
     "data": {
      "image/png": "[encoded data removed]",
      "text/plain": [
       "<Figure size 1200x700 with 1 Axes>"
      ]
     },
     "metadata": {},
     "output_type": "display_data"
    }
   ],
   "source": [
    "x_data = df_ex['Preco_Unitario']\n",
    "y_data = df_ex['Quantidade']\n",
    "\n",
    "a, b = np.polyfit(x_data, y_data, 1)\n",
    "y_tendencia = a * x_data + b\n",
    "\n",
    "plt.figure(figsize=(12, 7))\n",
    "plt.scatter(x_data, y_data, alpha=0.3, label='Vendas Individuais') \n",
    "plt.plot(x_data, y_tendencia, color='red', linestyle='--', label='Linha de Tendência')\n",
    "\n",
    "plt.title('Relação entre Preço e Quantidade com Linha de Tendência', fontsize=14)\n",
    "plt.xlabel('Preço Unitário (R$)', fontsize=12)\n",
    "plt.ylabel('Quantidade por Transação', fontsize=12)\n",
    "plt.legend()\n",
    "plt.grid(True, linestyle='--', alpha=0.5)\n",
    "plt.show()"
   ]
  },
  {
   "cell_type": "markdown",
   "id": "e033c703-f91e-4314-a865-da49129e4f60",
   "metadata": {},
   "source": [
    "--------------------------------------------------------------------------------------------------------------------------------------------------------"
   ]
  },
  {
   "cell_type": "markdown",
   "id": "8e32eb9b-14ca-4d3f-bc80-7bd08f99228c",
   "metadata": {},
   "source": [
    "4. Comparativo de Faturamento: Eletrônicos vs. Todas as Outras Categorias\n",
    "\n",
    "Pergunta de Negócio: A diretoria sabe que a categoria \"Eletrônicos\" é importante, mas eles querem um único slide que mostre o quão dominante ela é. \"Qual é o impacto da categoria 'Eletrônicos' no faturamento total, quando comparada com a soma de todas as outras categorias juntas?\""
   ]
  },
  {
   "cell_type": "markdown",
   "id": "0076b569-0925-4f2f-b66a-dd69e8ae07df",
   "metadata": {},
   "source": [
    "Primeiramente, como esta é uma pergunta de negócio que envolve vários passos, fazendo um pseudocódigo para facilitar a resolução:\n",
    "- Calcular o faturamento total da categoria Eletrônicos;\n",
    "- Calcular o faturamento de todas as outras categorias somadas;\n",
    "- Unir o faturamento da categoria Eletrônicos e a fatura da soma de todas as categorias menos Eletrônicos em um único gráfico."
   ]
  },
  {
   "cell_type": "code",
   "execution_count": 51,
   "id": "ec4d3f1a-805e-45d9-b109-675de1b8819f",
   "metadata": {},
   "outputs": [
    {
     "data": {
      "text/plain": [
       "5650573.15"
      ]
     },
     "execution_count": 51,
     "metadata": {},
     "output_type": "execute_result"
    }
   ],
   "source": [
    "#Calculando o faturamento da categoria Eletrônicos, e apenas Eletrônicos\n",
    "eletronicosfat = df_ex.groupby('Categoria').get_group('Eletrônicos')['Valor_Total'].sum()\n",
    "eletronicosfat"
   ]
  },
  {
   "cell_type": "code",
   "execution_count": 52,
   "id": "cf32aead-cc88-44dd-a8d1-0bccc18f56bf",
   "metadata": {},
   "outputs": [
    {
     "data": {
      "text/plain": [
       "2735038.81"
      ]
     },
     "execution_count": 52,
     "metadata": {},
     "output_type": "execute_result"
    }
   ],
   "source": [
    "#Calculando a soma do faturamento de todas as outras categorias\n",
    "outrascatfat = df_ex[df_ex['Categoria'] != 'Eletrônicos']['Valor_Total'].sum()\n",
    "outrascatfat"
   ]
  },
  {
   "cell_type": "code",
   "execution_count": 53,
   "id": "cfb0cffc-9cac-455d-8b51-8388911909d6",
   "metadata": {},
   "outputs": [
    {
     "data": {
      "text/plain": [
       "8385611.96"
      ]
     },
     "execution_count": 53,
     "metadata": {},
     "output_type": "execute_result"
    }
   ],
   "source": [
    "#Calculando o faturamento total de todas as categorias, para já se ter uma noção imediata do quanto a categoria Eletrônicos é relevante em comparação\n",
    "#com o faturamento total\n",
    "todascatfat = df_ex['Valor_Total'].sum()\n",
    "todascatfat.round(2)"
   ]
  },
  {
   "cell_type": "code",
   "execution_count": 54,
   "id": "a5f40dc3-f8e8-4957-9a12-daef1adb85c3",
   "metadata": {},
   "outputs": [
    {
     "data": {
      "image/png": "[encoded data removed]",
      "text/plain": [
       "<Figure size 1000x800 with 1 Axes>"
      ]
     },
     "metadata": {},
     "output_type": "display_data"
    }
   ],
   "source": [
    "#Criando um gráfico de pizza para visualização das informações\n",
    "valores = [eletronicosfat, outrascatfat]\n",
    "rotulos = ['Eletrônicos', 'Demais Categorias']\n",
    "explode = (0.08, 0) \n",
    "cores = ['gold', 'lightskyblue']\n",
    "\n",
    "plt.figure(figsize=(10, 8)) \n",
    "plt.pie(\n",
    "    valores, \n",
    "    explode=explode, \n",
    "    labels=rotulos, \n",
    "    colors=cores,\n",
    "    autopct='%1.1f%%', \n",
    "    shadow=True, \n",
    "    startangle=125      \n",
    ")\n",
    "\n",
    "plt.title('Participação da Categoria \"Eletrônicos\" na Receita Total', fontsize=14)\n",
    "\n",
    "plt.axis('equal')  \n",
    "\n",
    "plt.show()"
   ]
  },
  {
   "cell_type": "markdown",
   "id": "5a6ad638-5099-4c27-a824-a1a8641961f7",
   "metadata": {},
   "source": [
    "Conclusões: Podemos perceber, antes mesmo da criação do gráfico, quando comparamos o faturamento apenas da categoria Eletrônicos com as demais categorias e com todas as categorias somadas, que o departamento de Eletrônicos é o maior gerador de receita da empresa. Com o gráfico, fica ainda mais evidente e de fácil visualização o quanto a categoria é importante, sendo esta, sozinha, responsável por cerca de 2/3 de todo o faturamento da empresa."
   ]
  },
  {
   "cell_type": "markdown",
   "id": "fa66a39d-c4c2-44e9-b997-7ab71a6947d8",
   "metadata": {},
   "source": [
    "--------------------------------------------------------------------------------------------------------------------------------------------------------"
   ]
  },
  {
   "cell_type": "markdown",
   "id": "d724270a-6dec-4566-8241-b91f8f0da43a",
   "metadata": {},
   "source": [
    "5. Análise de Concentração de Clientes (TOP 5 vs. Restante)\n",
    "Pergunta de Negócio: O time de CRM quer justificar um programa de fidelidade VIP. Eles precisam provar que um pequeno grupo de clientes tem um valor desproporcional para a empresa. \"Qual a diferença de faturamento entre o grupo dos nossos 5 melhores clientes e a média de faturamento dos demais clientes?\""
   ]
  },
  {
   "cell_type": "code",
   "execution_count": 55,
   "id": "a50a0b11-59c5-47aa-9e84-3dfdd4ed899a",
   "metadata": {},
   "outputs": [
    {
     "data": {
      "text/html": [
       "<div>\n",
       "<style scoped>\n",
       "    .dataframe tbody tr th:only-of-type {\n",
       "        vertical-align: middle;\n",
       "    }\n",
       "\n",
       "    .dataframe tbody tr th {\n",
       "        vertical-align: top;\n",
       "    }\n",
       "\n",
       "    .dataframe thead th {\n",
       "        text-align: right;\n",
       "    }\n",
       "</style>\n",
       "<table border=\"1\" class=\"dataframe\">\n",
       "  <thead>\n",
       "    <tr style=\"text-align: right;\">\n",
       "      <th></th>\n",
       "      <th>ID_Pedido</th>\n",
       "      <th>ID_Cliente</th>\n",
       "      <th>Data_Pedido</th>\n",
       "      <th>Produto</th>\n",
       "      <th>Categoria</th>\n",
       "      <th>Preco_Unitario</th>\n",
       "      <th>Quantidade</th>\n",
       "      <th>Valor_Total</th>\n",
       "      <th>Ano</th>\n",
       "      <th>Mês</th>\n",
       "      <th>Dia_Semana</th>\n",
       "      <th>Faixa_Preco</th>\n",
       "    </tr>\n",
       "  </thead>\n",
       "  <tbody>\n",
       "    <tr>\n",
       "      <th>0</th>\n",
       "      <td>1000</td>\n",
       "      <td>905</td>\n",
       "      <td>2024-07-18</td>\n",
       "      <td>Aspirador de Pó</td>\n",
       "      <td>Casa e Cozinha</td>\n",
       "      <td>273.04</td>\n",
       "      <td>1</td>\n",
       "      <td>273.04</td>\n",
       "      <td>2024</td>\n",
       "      <td>7</td>\n",
       "      <td>Quinta-feira</td>\n",
       "      <td>R$0 - 350</td>\n",
       "    </tr>\n",
       "    <tr>\n",
       "      <th>1</th>\n",
       "      <td>1001</td>\n",
       "      <td>398</td>\n",
       "      <td>2023-08-28</td>\n",
       "      <td>Biografia</td>\n",
       "      <td>Livros</td>\n",
       "      <td>54.34</td>\n",
       "      <td>1</td>\n",
       "      <td>54.34</td>\n",
       "      <td>2023</td>\n",
       "      <td>8</td>\n",
       "      <td>Segunda-feira</td>\n",
       "      <td>R$0 - 350</td>\n",
       "    </tr>\n",
       "    <tr>\n",
       "      <th>2</th>\n",
       "      <td>1002</td>\n",
       "      <td>897</td>\n",
       "      <td>2024-09-02</td>\n",
       "      <td>Bicicleta Ergométrica</td>\n",
       "      <td>Esportes e Lazer</td>\n",
       "      <td>658.70</td>\n",
       "      <td>3</td>\n",
       "      <td>1976.10</td>\n",
       "      <td>2024</td>\n",
       "      <td>9</td>\n",
       "      <td>Segunda-feira</td>\n",
       "      <td>R$351 - 700</td>\n",
       "    </tr>\n",
       "    <tr>\n",
       "      <th>3</th>\n",
       "      <td>1003</td>\n",
       "      <td>822</td>\n",
       "      <td>2024-11-01</td>\n",
       "      <td>Cafeteira</td>\n",
       "      <td>Casa e Cozinha</td>\n",
       "      <td>130.29</td>\n",
       "      <td>4</td>\n",
       "      <td>521.16</td>\n",
       "      <td>2024</td>\n",
       "      <td>11</td>\n",
       "      <td>Sexta-feira</td>\n",
       "      <td>R$0 - 350</td>\n",
       "    </tr>\n",
       "    <tr>\n",
       "      <th>4</th>\n",
       "      <td>1004</td>\n",
       "      <td>1116</td>\n",
       "      <td>2024-02-26</td>\n",
       "      <td>Bola de Futebol</td>\n",
       "      <td>Esportes e Lazer</td>\n",
       "      <td>56.29</td>\n",
       "      <td>1</td>\n",
       "      <td>56.29</td>\n",
       "      <td>2024</td>\n",
       "      <td>2</td>\n",
       "      <td>Segunda-feira</td>\n",
       "      <td>R$0 - 350</td>\n",
       "    </tr>\n",
       "  </tbody>\n",
       "</table>\n",
       "</div>"
      ],
      "text/plain": [
       "   ID_Pedido  ID_Cliente Data_Pedido                Produto         Categoria  \\\n",
       "0       1000         905  2024-07-18        Aspirador de Pó    Casa e Cozinha   \n",
       "1       1001         398  2023-08-28              Biografia            Livros   \n",
       "2       1002         897  2024-09-02  Bicicleta Ergométrica  Esportes e Lazer   \n",
       "3       1003         822  2024-11-01              Cafeteira    Casa e Cozinha   \n",
       "4       1004        1116  2024-02-26        Bola de Futebol  Esportes e Lazer   \n",
       "\n",
       "   Preco_Unitario  Quantidade  Valor_Total   Ano  Mês     Dia_Semana  \\\n",
       "0          273.04           1       273.04  2024    7   Quinta-feira   \n",
       "1           54.34           1        54.34  2023    8  Segunda-feira   \n",
       "2          658.70           3      1976.10  2024    9  Segunda-feira   \n",
       "3          130.29           4       521.16  2024   11    Sexta-feira   \n",
       "4           56.29           1        56.29  2024    2  Segunda-feira   \n",
       "\n",
       "   Faixa_Preco  \n",
       "0    R$0 - 350  \n",
       "1    R$0 - 350  \n",
       "2  R$351 - 700  \n",
       "3    R$0 - 350  \n",
       "4    R$0 - 350  "
      ]
     },
     "execution_count": 55,
     "metadata": {},
     "output_type": "execute_result"
    }
   ],
   "source": [
    "#Visualizando os dados\n",
    "df_ex.head()"
   ]
  },
  {
   "cell_type": "code",
   "execution_count": 56,
   "id": "7d00070f-6d7f-461a-be35-80865c09d365",
   "metadata": {},
   "outputs": [
    {
     "data": {
      "text/plain": [
       "ID_Cliente\n",
       "536     31108.09\n",
       "664     26195.65\n",
       "173     25563.13\n",
       "902     25319.28\n",
       "1051    24761.37\n",
       "Name: Valor_Total, dtype: float64"
      ]
     },
     "execution_count": 56,
     "metadata": {},
     "output_type": "execute_result"
    }
   ],
   "source": [
    "#Descobrindo quem são os clientes VIP (os 5 que mais gastam)\n",
    "clientesvip = df_ex.groupby('ID_Cliente')['Valor_Total'].sum().sort_values(ascending = False).head()\n",
    "clientesvip"
   ]
  },
  {
   "cell_type": "code",
   "execution_count": 57,
   "id": "1ab31daf-b210-46e9-abbf-dfc5dbca3f9a",
   "metadata": {},
   "outputs": [
    {
     "data": {
      "text/plain": [
       "26589.5"
      ]
     },
     "execution_count": 57,
     "metadata": {},
     "output_type": "execute_result"
    }
   ],
   "source": [
    "#Descobrindo a média gasta por este pequeno grupo, para assim poder comparar com a média dos clientes comuns\n",
    "clientesvipdf = clientesvip.mean().round(2)\n",
    "clientesvipdf"
   ]
  },
  {
   "cell_type": "code",
   "execution_count": 58,
   "id": "dd1f69e8-bf03-4ad9-b26f-d56273bfda59",
   "metadata": {},
   "outputs": [
    {
     "data": {
      "text/plain": [
       "5911.65"
      ]
     },
     "execution_count": 58,
     "metadata": {},
     "output_type": "execute_result"
    }
   ],
   "source": [
    "#Descobrindo a média de gastos de todos os clientes, excluindo os 5 clientes que mais gastam\n",
    "idsvip = clientesvip.index\n",
    "clientescomuns = df_ex[~df_ex['ID_Cliente'].isin(idsvip)]\n",
    "clientescomunsdf = clientescomuns.groupby('ID_Cliente')['Valor_Total'].sum().mean().round(2)\n",
    "clientescomunsdf"
   ]
  },
  {
   "cell_type": "code",
   "execution_count": 59,
   "id": "614976b5-56c5-40b7-8899-e1f63ec9a49d",
   "metadata": {},
   "outputs": [
    {
     "data": {
      "image/png": "[encoded data removed]",
      "text/plain": [
       "<Figure size 1200x700 with 1 Axes>"
      ]
     },
     "metadata": {},
     "output_type": "display_data"
    }
   ],
   "source": [
    "#Criando o gráfico para comparar os dois: Os 5 clientes que mais gastam e clientes comuns\n",
    "categorias = ['Clientes VIP', 'Clientes em Geral']\n",
    "valores = [clientesvipdf, clientescomunsdf]\n",
    "\n",
    "plt.figure(figsize=(12, 7))\n",
    "grafico1 = plt.bar(categorias, valores, color=['firebrick'])\n",
    "plt.xlabel('Tipo de Cliente', fontsize=12)\n",
    "plt.ylabel('Total Gasto', fontsize=12)\n",
    "plt.title('Total Gasto em Comparação entre os Clientes VIP e os Demais', fontsize=14)\n",
    "plt.xticks(rotation=0, ha='center', fontsize = 12) \n",
    "plt.tight_layout()\n",
    "plt.grid(axis='y', linestyle='--', alpha=0.5)\n",
    "for bar in grafico1:\n",
    "    yval = bar.get_height()\n",
    "    plt.text(\n",
    "        bar.get_x() + bar.get_width()/2, \n",
    "        yval + (max(valores) * 0.005), \n",
    "        f'R$ {yval:,.2f}', \n",
    "        ha='center', \n",
    "        va='bottom', \n",
    "        fontsize=11, \n",
    "        color='black' \n",
    "    )\n",
    "\n",
    "plt.show()"
   ]
  },
  {
   "cell_type": "code",
   "execution_count": 60,
   "id": "cbac5579-db8b-4f52-93db-f318fdf5a998",
   "metadata": {},
   "outputs": [
    {
     "data": {
      "text/plain": [
       "4.497813639170113"
      ]
     },
     "execution_count": 60,
     "metadata": {},
     "output_type": "execute_result"
    }
   ],
   "source": [
    "#Calculando a razão (quantas vezes os clientes VIP gastam mais) entre a média gasta por clientes comuns e os clientes VIP\n",
    "razao = clientesvipdf/clientescomunsdf\n",
    "razao"
   ]
  },
  {
   "cell_type": "markdown",
   "id": "0bf4737d-1ed0-42c1-87c9-a53b3b5666c7",
   "metadata": {},
   "source": [
    "Conclusões: Podemos dizer, com certeza, que os nossos 5 clientes que mais gastam são valiosos para a empresa, sendo evidente pelo gráfico e pelo cálculo da razão entre a média de gastos entre clientes VIP e demais clientes, que estes gastam bem mais (4,5 vezes mais) do que todos os outros clientes, sendo assim viável a criação de um programa de fidelidade."
   ]
  }
 ],
 "metadata": {
  "kernelspec": {
   "display_name": "Python [conda env:base] *",
   "language": "python",
   "name": "conda-base-py"
  },
  "language_info": {
   "codemirror_mode": {
    "name": "ipython",
    "version": 3
   },
   "file_extension": ".py",
   "mimetype": "text/x-python",
   "name": "python",
   "nbconvert_exporter": "python",
   "pygments_lexer": "ipython3",
   "version": "3.12.7"
  }
 },
 "nbformat": 4,
 "nbformat_minor": 5
}
